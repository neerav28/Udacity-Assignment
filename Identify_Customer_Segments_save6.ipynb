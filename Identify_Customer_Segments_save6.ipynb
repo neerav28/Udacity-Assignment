{
 "cells": [
  {
   "cell_type": "markdown",
   "metadata": {},
   "source": [
    "# Project: Identify Customer Segments\n",
    "\n",
    "In this project, you will apply unsupervised learning techniques to identify segments of the population that form the core customer base for a mail-order sales company in Germany. These segments can then be used to direct marketing campaigns towards audiences that will have the highest expected rate of returns. The data that you will use has been provided by our partners at Bertelsmann Arvato Analytics, and represents a real-life data science task.\n",
    "\n",
    "This notebook will help you complete this task by providing a framework within which you will perform your analysis steps. In each step of the project, you will see some text describing the subtask that you will perform, followed by one or more code cells for you to complete your work. **Feel free to add additional code and markdown cells as you go along so that you can explore everything in precise chunks.** The code cells provided in the base template will outline only the major tasks, and will usually not be enough to cover all of the minor tasks that comprise it.\n",
    "\n",
    "It should be noted that while there will be precise guidelines on how you should handle certain tasks in the project, there will also be places where an exact specification is not provided. **There will be times in the project where you will need to make and justify your own decisions on how to treat the data.** These are places where there may not be only one way to handle the data. In real-life tasks, there may be many valid ways to approach an analysis task. One of the most important things you can do is clearly document your approach so that other scientists can understand the decisions you've made.\n",
    "\n",
    "At the end of most sections, there will be a Markdown cell labeled **Discussion**. In these cells, you will report your findings for the completed section, as well as document the decisions that you made in your approach to each subtask. **Your project will be evaluated not just on the code used to complete the tasks outlined, but also your communication about your observations and conclusions at each stage.**"
   ]
  },
  {
   "cell_type": "code",
   "execution_count": 1,
   "metadata": {},
   "outputs": [
    {
     "data": {
      "text/plain": [
       "'\\nImport note: The classroom currently uses sklearn version 0.19.\\nIf you need to use an imputer, it is available in sklearn.preprocessing.Imputer,\\ninstead of sklearn.impute as in newer versions of sklearn.\\n'"
      ]
     },
     "execution_count": 1,
     "metadata": {},
     "output_type": "execute_result"
    }
   ],
   "source": [
    "# import libraries here; add more as necessary\n",
    "import numpy as np\n",
    "import pandas as pd\n",
    "import matplotlib.pyplot as plt\n",
    "import seaborn as sns\n",
    "\n",
    "# magic word for producing visualizations in notebook\n",
    "%matplotlib inline\n",
    "\n",
    "'''\n",
    "Import note: The classroom currently uses sklearn version 0.19.\n",
    "If you need to use an imputer, it is available in sklearn.preprocessing.Imputer,\n",
    "instead of sklearn.impute as in newer versions of sklearn.\n",
    "'''"
   ]
  },
  {
   "cell_type": "markdown",
   "metadata": {},
   "source": [
    "### Step 0: Load the Data\n",
    "\n",
    "There are four files associated with this project (not including this one):\n",
    "\n",
    "- `Udacity_AZDIAS_Subset.csv`: Demographics data for the general population of Germany; 891211 persons (rows) x 85 features (columns).\n",
    "- `Udacity_CUSTOMERS_Subset.csv`: Demographics data for customers of a mail-order company; 191652 persons (rows) x 85 features (columns).\n",
    "- `Data_Dictionary.md`: Detailed information file about the features in the provided datasets.\n",
    "- `AZDIAS_Feature_Summary.csv`: Summary of feature attributes for demographics data; 85 features (rows) x 4 columns\n",
    "\n",
    "Each row of the demographics files represents a single person, but also includes information outside of individuals, including information about their household, building, and neighborhood. You will use this information to cluster the general population into groups with similar demographic properties. Then, you will see how the people in the customers dataset fit into those created clusters. The hope here is that certain clusters are over-represented in the customers data, as compared to the general population; those over-represented clusters will be assumed to be part of the core userbase. This information can then be used for further applications, such as targeting for a marketing campaign.\n",
    "\n",
    "To start off with, load in the demographics data for the general population into a pandas DataFrame, and do the same for the feature attributes summary. Note for all of the `.csv` data files in this project: they're semicolon (`;`) delimited, so you'll need an additional argument in your [`read_csv()`](https://pandas.pydata.org/pandas-docs/stable/generated/pandas.read_csv.html) call to read in the data properly. Also, considering the size of the main dataset, it may take some time for it to load completely.\n",
    "\n",
    "Once the dataset is loaded, it's recommended that you take a little bit of time just browsing the general structure of the dataset and feature summary file. You'll be getting deep into the innards of the cleaning in the first major step of the project, so gaining some general familiarity can help you get your bearings."
   ]
  },
  {
   "cell_type": "code",
   "execution_count": 2,
   "metadata": {},
   "outputs": [],
   "source": [
    "# Load in the general demographics data.\n",
    "azdias = pd.read_csv('./Udacity_AZDIAS_Subset.csv',delimiter=';')\n",
    "\n",
    "# Load in the feature summary file.\n",
    "feat_info = pd.read_csv('./AZDIAS_Feature_Summary.csv',delimiter=';')"
   ]
  },
  {
   "cell_type": "code",
   "execution_count": 3,
   "metadata": {},
   "outputs": [
    {
     "data": {
      "text/plain": [
       "(891221, 85)"
      ]
     },
     "execution_count": 3,
     "metadata": {},
     "output_type": "execute_result"
    }
   ],
   "source": [
    "# looks like all of the data is there\n",
    "azdias.shape"
   ]
  },
  {
   "cell_type": "code",
   "execution_count": 4,
   "metadata": {},
   "outputs": [
    {
     "data": {
      "text/html": [
       "<div>\n",
       "<style scoped>\n",
       "    .dataframe tbody tr th:only-of-type {\n",
       "        vertical-align: middle;\n",
       "    }\n",
       "\n",
       "    .dataframe tbody tr th {\n",
       "        vertical-align: top;\n",
       "    }\n",
       "\n",
       "    .dataframe thead th {\n",
       "        text-align: right;\n",
       "    }\n",
       "</style>\n",
       "<table border=\"1\" class=\"dataframe\">\n",
       "  <thead>\n",
       "    <tr style=\"text-align: right;\">\n",
       "      <th></th>\n",
       "      <th>AGER_TYP</th>\n",
       "      <th>ALTERSKATEGORIE_GROB</th>\n",
       "      <th>ANREDE_KZ</th>\n",
       "      <th>CJT_GESAMTTYP</th>\n",
       "      <th>FINANZ_MINIMALIST</th>\n",
       "      <th>FINANZ_SPARER</th>\n",
       "      <th>FINANZ_VORSORGER</th>\n",
       "      <th>FINANZ_ANLEGER</th>\n",
       "      <th>FINANZ_UNAUFFAELLIGER</th>\n",
       "      <th>FINANZ_HAUSBAUER</th>\n",
       "      <th>...</th>\n",
       "      <th>PLZ8_ANTG1</th>\n",
       "      <th>PLZ8_ANTG2</th>\n",
       "      <th>PLZ8_ANTG3</th>\n",
       "      <th>PLZ8_ANTG4</th>\n",
       "      <th>PLZ8_BAUMAX</th>\n",
       "      <th>PLZ8_HHZ</th>\n",
       "      <th>PLZ8_GBZ</th>\n",
       "      <th>ARBEIT</th>\n",
       "      <th>ORTSGR_KLS9</th>\n",
       "      <th>RELAT_AB</th>\n",
       "    </tr>\n",
       "  </thead>\n",
       "  <tbody>\n",
       "    <tr>\n",
       "      <th>364490</th>\n",
       "      <td>-1</td>\n",
       "      <td>2</td>\n",
       "      <td>1</td>\n",
       "      <td>6.0</td>\n",
       "      <td>2</td>\n",
       "      <td>5</td>\n",
       "      <td>2</td>\n",
       "      <td>5</td>\n",
       "      <td>3</td>\n",
       "      <td>4</td>\n",
       "      <td>...</td>\n",
       "      <td>1.0</td>\n",
       "      <td>4.0</td>\n",
       "      <td>3.0</td>\n",
       "      <td>1.0</td>\n",
       "      <td>5.0</td>\n",
       "      <td>5.0</td>\n",
       "      <td>2.0</td>\n",
       "      <td>4.0</td>\n",
       "      <td>5.0</td>\n",
       "      <td>3.0</td>\n",
       "    </tr>\n",
       "    <tr>\n",
       "      <th>572670</th>\n",
       "      <td>-1</td>\n",
       "      <td>4</td>\n",
       "      <td>2</td>\n",
       "      <td>2.0</td>\n",
       "      <td>4</td>\n",
       "      <td>1</td>\n",
       "      <td>5</td>\n",
       "      <td>1</td>\n",
       "      <td>1</td>\n",
       "      <td>4</td>\n",
       "      <td>...</td>\n",
       "      <td>NaN</td>\n",
       "      <td>NaN</td>\n",
       "      <td>NaN</td>\n",
       "      <td>NaN</td>\n",
       "      <td>NaN</td>\n",
       "      <td>NaN</td>\n",
       "      <td>NaN</td>\n",
       "      <td>2.0</td>\n",
       "      <td>3.0</td>\n",
       "      <td>3.0</td>\n",
       "    </tr>\n",
       "    <tr>\n",
       "      <th>441076</th>\n",
       "      <td>-1</td>\n",
       "      <td>3</td>\n",
       "      <td>1</td>\n",
       "      <td>2.0</td>\n",
       "      <td>5</td>\n",
       "      <td>2</td>\n",
       "      <td>4</td>\n",
       "      <td>1</td>\n",
       "      <td>2</td>\n",
       "      <td>1</td>\n",
       "      <td>...</td>\n",
       "      <td>2.0</td>\n",
       "      <td>3.0</td>\n",
       "      <td>2.0</td>\n",
       "      <td>1.0</td>\n",
       "      <td>1.0</td>\n",
       "      <td>5.0</td>\n",
       "      <td>4.0</td>\n",
       "      <td>3.0</td>\n",
       "      <td>6.0</td>\n",
       "      <td>2.0</td>\n",
       "    </tr>\n",
       "    <tr>\n",
       "      <th>516177</th>\n",
       "      <td>-1</td>\n",
       "      <td>2</td>\n",
       "      <td>1</td>\n",
       "      <td>4.0</td>\n",
       "      <td>3</td>\n",
       "      <td>4</td>\n",
       "      <td>2</td>\n",
       "      <td>3</td>\n",
       "      <td>4</td>\n",
       "      <td>2</td>\n",
       "      <td>...</td>\n",
       "      <td>2.0</td>\n",
       "      <td>3.0</td>\n",
       "      <td>1.0</td>\n",
       "      <td>1.0</td>\n",
       "      <td>1.0</td>\n",
       "      <td>4.0</td>\n",
       "      <td>4.0</td>\n",
       "      <td>4.0</td>\n",
       "      <td>7.0</td>\n",
       "      <td>5.0</td>\n",
       "    </tr>\n",
       "    <tr>\n",
       "      <th>210405</th>\n",
       "      <td>-1</td>\n",
       "      <td>2</td>\n",
       "      <td>2</td>\n",
       "      <td>6.0</td>\n",
       "      <td>3</td>\n",
       "      <td>2</td>\n",
       "      <td>4</td>\n",
       "      <td>2</td>\n",
       "      <td>3</td>\n",
       "      <td>3</td>\n",
       "      <td>...</td>\n",
       "      <td>3.0</td>\n",
       "      <td>3.0</td>\n",
       "      <td>1.0</td>\n",
       "      <td>0.0</td>\n",
       "      <td>1.0</td>\n",
       "      <td>4.0</td>\n",
       "      <td>5.0</td>\n",
       "      <td>3.0</td>\n",
       "      <td>9.0</td>\n",
       "      <td>5.0</td>\n",
       "    </tr>\n",
       "  </tbody>\n",
       "</table>\n",
       "<p>5 rows × 85 columns</p>\n",
       "</div>"
      ],
      "text/plain": [
       "        AGER_TYP  ALTERSKATEGORIE_GROB  ANREDE_KZ  CJT_GESAMTTYP  \\\n",
       "364490        -1                     2          1            6.0   \n",
       "572670        -1                     4          2            2.0   \n",
       "441076        -1                     3          1            2.0   \n",
       "516177        -1                     2          1            4.0   \n",
       "210405        -1                     2          2            6.0   \n",
       "\n",
       "        FINANZ_MINIMALIST  FINANZ_SPARER  FINANZ_VORSORGER  FINANZ_ANLEGER  \\\n",
       "364490                  2              5                 2               5   \n",
       "572670                  4              1                 5               1   \n",
       "441076                  5              2                 4               1   \n",
       "516177                  3              4                 2               3   \n",
       "210405                  3              2                 4               2   \n",
       "\n",
       "        FINANZ_UNAUFFAELLIGER  FINANZ_HAUSBAUER    ...     PLZ8_ANTG1  \\\n",
       "364490                      3                 4    ...            1.0   \n",
       "572670                      1                 4    ...            NaN   \n",
       "441076                      2                 1    ...            2.0   \n",
       "516177                      4                 2    ...            2.0   \n",
       "210405                      3                 3    ...            3.0   \n",
       "\n",
       "        PLZ8_ANTG2  PLZ8_ANTG3  PLZ8_ANTG4  PLZ8_BAUMAX  PLZ8_HHZ  PLZ8_GBZ  \\\n",
       "364490         4.0         3.0         1.0          5.0       5.0       2.0   \n",
       "572670         NaN         NaN         NaN          NaN       NaN       NaN   \n",
       "441076         3.0         2.0         1.0          1.0       5.0       4.0   \n",
       "516177         3.0         1.0         1.0          1.0       4.0       4.0   \n",
       "210405         3.0         1.0         0.0          1.0       4.0       5.0   \n",
       "\n",
       "        ARBEIT  ORTSGR_KLS9  RELAT_AB  \n",
       "364490     4.0          5.0       3.0  \n",
       "572670     2.0          3.0       3.0  \n",
       "441076     3.0          6.0       2.0  \n",
       "516177     4.0          7.0       5.0  \n",
       "210405     3.0          9.0       5.0  \n",
       "\n",
       "[5 rows x 85 columns]"
      ]
     },
     "execution_count": 4,
     "metadata": {},
     "output_type": "execute_result"
    }
   ],
   "source": [
    "# Check the structure of the data after it's loaded (e.g. print the number of\n",
    "# rows and columns, print the first few rows).\n",
    "\n",
    "# Sample works better than head as it random not just the first few lines which will be ordered.\n",
    "azdias.sample(5)\n"
   ]
  },
  {
   "cell_type": "code",
   "execution_count": 5,
   "metadata": {},
   "outputs": [
    {
     "name": "stdout",
     "output_type": "stream",
     "text": [
      "<class 'pandas.core.frame.DataFrame'>\n",
      "RangeIndex: 891221 entries, 0 to 891220\n",
      "Data columns (total 85 columns):\n",
      "AGER_TYP                 891221 non-null int64\n",
      "ALTERSKATEGORIE_GROB     891221 non-null int64\n",
      "ANREDE_KZ                891221 non-null int64\n",
      "CJT_GESAMTTYP            886367 non-null float64\n",
      "FINANZ_MINIMALIST        891221 non-null int64\n",
      "FINANZ_SPARER            891221 non-null int64\n",
      "FINANZ_VORSORGER         891221 non-null int64\n",
      "FINANZ_ANLEGER           891221 non-null int64\n",
      "FINANZ_UNAUFFAELLIGER    891221 non-null int64\n",
      "FINANZ_HAUSBAUER         891221 non-null int64\n",
      "FINANZTYP                891221 non-null int64\n",
      "GEBURTSJAHR              891221 non-null int64\n",
      "GFK_URLAUBERTYP          886367 non-null float64\n",
      "GREEN_AVANTGARDE         891221 non-null int64\n",
      "HEALTH_TYP               891221 non-null int64\n",
      "LP_LEBENSPHASE_FEIN      886367 non-null float64\n",
      "LP_LEBENSPHASE_GROB      886367 non-null float64\n",
      "LP_FAMILIE_FEIN          886367 non-null float64\n",
      "LP_FAMILIE_GROB          886367 non-null float64\n",
      "LP_STATUS_FEIN           886367 non-null float64\n",
      "LP_STATUS_GROB           886367 non-null float64\n",
      "NATIONALITAET_KZ         891221 non-null int64\n",
      "PRAEGENDE_JUGENDJAHRE    891221 non-null int64\n",
      "RETOURTYP_BK_S           886367 non-null float64\n",
      "SEMIO_SOZ                891221 non-null int64\n",
      "SEMIO_FAM                891221 non-null int64\n",
      "SEMIO_REL                891221 non-null int64\n",
      "SEMIO_MAT                891221 non-null int64\n",
      "SEMIO_VERT               891221 non-null int64\n",
      "SEMIO_LUST               891221 non-null int64\n",
      "SEMIO_ERL                891221 non-null int64\n",
      "SEMIO_KULT               891221 non-null int64\n",
      "SEMIO_RAT                891221 non-null int64\n",
      "SEMIO_KRIT               891221 non-null int64\n",
      "SEMIO_DOM                891221 non-null int64\n",
      "SEMIO_KAEM               891221 non-null int64\n",
      "SEMIO_PFLICHT            891221 non-null int64\n",
      "SEMIO_TRADV              891221 non-null int64\n",
      "SHOPPER_TYP              891221 non-null int64\n",
      "SOHO_KZ                  817722 non-null float64\n",
      "TITEL_KZ                 817722 non-null float64\n",
      "VERS_TYP                 891221 non-null int64\n",
      "ZABEOTYP                 891221 non-null int64\n",
      "ALTER_HH                 817722 non-null float64\n",
      "ANZ_PERSONEN             817722 non-null float64\n",
      "ANZ_TITEL                817722 non-null float64\n",
      "HH_EINKOMMEN_SCORE       872873 non-null float64\n",
      "KK_KUNDENTYP             306609 non-null float64\n",
      "W_KEIT_KIND_HH           783619 non-null float64\n",
      "WOHNDAUER_2008           817722 non-null float64\n",
      "ANZ_HAUSHALTE_AKTIV      798073 non-null float64\n",
      "ANZ_HH_TITEL             794213 non-null float64\n",
      "GEBAEUDETYP              798073 non-null float64\n",
      "KONSUMNAEHE              817252 non-null float64\n",
      "MIN_GEBAEUDEJAHR         798073 non-null float64\n",
      "OST_WEST_KZ              798073 non-null object\n",
      "WOHNLAGE                 798073 non-null float64\n",
      "CAMEO_DEUG_2015          792242 non-null object\n",
      "CAMEO_DEU_2015           792242 non-null object\n",
      "CAMEO_INTL_2015          792242 non-null object\n",
      "KBA05_ANTG1              757897 non-null float64\n",
      "KBA05_ANTG2              757897 non-null float64\n",
      "KBA05_ANTG3              757897 non-null float64\n",
      "KBA05_ANTG4              757897 non-null float64\n",
      "KBA05_BAUMAX             757897 non-null float64\n",
      "KBA05_GBZ                757897 non-null float64\n",
      "BALLRAUM                 797481 non-null float64\n",
      "EWDICHTE                 797481 non-null float64\n",
      "INNENSTADT               797481 non-null float64\n",
      "GEBAEUDETYP_RASTER       798066 non-null float64\n",
      "KKK                      770025 non-null float64\n",
      "MOBI_REGIO               757897 non-null float64\n",
      "ONLINE_AFFINITAET        886367 non-null float64\n",
      "REGIOTYP                 770025 non-null float64\n",
      "KBA13_ANZAHL_PKW         785421 non-null float64\n",
      "PLZ8_ANTG1               774706 non-null float64\n",
      "PLZ8_ANTG2               774706 non-null float64\n",
      "PLZ8_ANTG3               774706 non-null float64\n",
      "PLZ8_ANTG4               774706 non-null float64\n",
      "PLZ8_BAUMAX              774706 non-null float64\n",
      "PLZ8_HHZ                 774706 non-null float64\n",
      "PLZ8_GBZ                 774706 non-null float64\n",
      "ARBEIT                   794005 non-null float64\n",
      "ORTSGR_KLS9              794005 non-null float64\n",
      "RELAT_AB                 794005 non-null float64\n",
      "dtypes: float64(49), int64(32), object(4)\n",
      "memory usage: 578.0+ MB\n"
     ]
    }
   ],
   "source": [
    "azdias.info()"
   ]
  },
  {
   "cell_type": "code",
   "execution_count": 6,
   "metadata": {},
   "outputs": [
    {
     "data": {
      "text/plain": [
       "(85, 4)"
      ]
     },
     "execution_count": 6,
     "metadata": {},
     "output_type": "execute_result"
    }
   ],
   "source": [
    "feat_info.shape"
   ]
  },
  {
   "cell_type": "code",
   "execution_count": 7,
   "metadata": {},
   "outputs": [
    {
     "name": "stdout",
     "output_type": "stream",
     "text": [
      "<class 'pandas.core.frame.DataFrame'>\n",
      "RangeIndex: 85 entries, 0 to 84\n",
      "Data columns (total 4 columns):\n",
      "attribute             85 non-null object\n",
      "information_level     85 non-null object\n",
      "type                  85 non-null object\n",
      "missing_or_unknown    85 non-null object\n",
      "dtypes: object(4)\n",
      "memory usage: 2.7+ KB\n"
     ]
    }
   ],
   "source": [
    "feat_info.info()"
   ]
  },
  {
   "cell_type": "code",
   "execution_count": 8,
   "metadata": {},
   "outputs": [
    {
     "data": {
      "text/html": [
       "<div>\n",
       "<style scoped>\n",
       "    .dataframe tbody tr th:only-of-type {\n",
       "        vertical-align: middle;\n",
       "    }\n",
       "\n",
       "    .dataframe tbody tr th {\n",
       "        vertical-align: top;\n",
       "    }\n",
       "\n",
       "    .dataframe thead th {\n",
       "        text-align: right;\n",
       "    }\n",
       "</style>\n",
       "<table border=\"1\" class=\"dataframe\">\n",
       "  <thead>\n",
       "    <tr style=\"text-align: right;\">\n",
       "      <th></th>\n",
       "      <th>attribute</th>\n",
       "      <th>information_level</th>\n",
       "      <th>type</th>\n",
       "      <th>missing_or_unknown</th>\n",
       "    </tr>\n",
       "  </thead>\n",
       "  <tbody>\n",
       "    <tr>\n",
       "      <th>49</th>\n",
       "      <td>WOHNDAUER_2008</td>\n",
       "      <td>household</td>\n",
       "      <td>ordinal</td>\n",
       "      <td>[-1,0]</td>\n",
       "    </tr>\n",
       "    <tr>\n",
       "      <th>41</th>\n",
       "      <td>VERS_TYP</td>\n",
       "      <td>person</td>\n",
       "      <td>categorical</td>\n",
       "      <td>[-1]</td>\n",
       "    </tr>\n",
       "    <tr>\n",
       "      <th>79</th>\n",
       "      <td>PLZ8_BAUMAX</td>\n",
       "      <td>macrocell_plz8</td>\n",
       "      <td>mixed</td>\n",
       "      <td>[-1,0]</td>\n",
       "    </tr>\n",
       "    <tr>\n",
       "      <th>39</th>\n",
       "      <td>SOHO_KZ</td>\n",
       "      <td>person</td>\n",
       "      <td>categorical</td>\n",
       "      <td>[-1]</td>\n",
       "    </tr>\n",
       "    <tr>\n",
       "      <th>55</th>\n",
       "      <td>OST_WEST_KZ</td>\n",
       "      <td>building</td>\n",
       "      <td>categorical</td>\n",
       "      <td>[-1]</td>\n",
       "    </tr>\n",
       "  </tbody>\n",
       "</table>\n",
       "</div>"
      ],
      "text/plain": [
       "         attribute information_level         type missing_or_unknown\n",
       "49  WOHNDAUER_2008         household      ordinal             [-1,0]\n",
       "41        VERS_TYP            person  categorical               [-1]\n",
       "79     PLZ8_BAUMAX    macrocell_plz8        mixed             [-1,0]\n",
       "39         SOHO_KZ            person  categorical               [-1]\n",
       "55     OST_WEST_KZ          building  categorical               [-1]"
      ]
     },
     "execution_count": 8,
     "metadata": {},
     "output_type": "execute_result"
    }
   ],
   "source": [
    "feat_info.sample(5)"
   ]
  },
  {
   "cell_type": "markdown",
   "metadata": {},
   "source": [
    "> **Tip**: Add additional cells to keep everything in reasonably-sized chunks! Keyboard shortcut `esc --> a` (press escape to enter command mode, then press the 'A' key) adds a new cell before the active cell, and `esc --> b` adds a new cell after the active cell. If you need to convert an active cell to a markdown cell, use `esc --> m` and to convert to a code cell, use `esc --> y`. \n",
    "\n",
    "## Step 1: Preprocessing\n",
    "\n",
    "### Step 1.1: Assess Missing Data\n",
    "\n",
    "The feature summary file contains a summary of properties for each demographics data column. You will use this file to help you make cleaning decisions during this stage of the project. First of all, you should assess the demographics data in terms of missing data. Pay attention to the following points as you perform your analysis, and take notes on what you observe. Make sure that you fill in the **Discussion** cell with your findings and decisions at the end of each step that has one!\n",
    "\n",
    "#### Step 1.1.1: Convert Missing Value Codes to NaNs\n",
    "The fourth column of the feature attributes summary (loaded in above as `feat_info`) documents the codes from the data dictionary that indicate missing or unknown data. While the file encodes this as a list (e.g. `[-1,0]`), this will get read in as a string object. You'll need to do a little bit of parsing to make use of it to identify and clean the data. Convert data that matches a 'missing' or 'unknown' value code into a numpy NaN value. You might want to see how much data takes on a 'missing' or 'unknown' code, and how much data is naturally missing, as a point of interest.\n",
    "\n",
    "**As one more reminder, you are encouraged to add additional cells to break up your analysis into manageable chunks.**"
   ]
  },
  {
   "cell_type": "code",
   "execution_count": 9,
   "metadata": {},
   "outputs": [],
   "source": [
    "# Identify missing or unknown data values and convert them to NaNs.\n",
    "\n",
    "# Create a copy of the data.\n",
    "copy_azdias = pd.read_csv('./Udacity_AZDIAS_Subset.csv',delimiter=';')\n"
   ]
  },
  {
   "cell_type": "code",
   "execution_count": 10,
   "metadata": {},
   "outputs": [],
   "source": [
    "feat_info['missing_or_unknown'] = feat_info['missing_or_unknown'].apply(lambda x: x[1:-1].split(','))\n",
    "\n",
    "#looping over the two coloumns checked in \"feat_info.head()\"\n",
    "for attribute, missing_values in zip(feat_info['attribute'], feat_info['missing_or_unknown']):\n",
    "    if missing_values[0] != '':\n",
    "        for value in missing_values:\n",
    "            # checking whether the string consists of only numeric characters, dropping ('-') for assurity \n",
    "            if value.isnumeric() or value.lstrip('-').isnumeric():  \n",
    "                value = int(value)\n",
    "            copy_azdias.loc[copy_azdias[attribute] == value, attribute] = np.nan"
   ]
  },
  {
   "cell_type": "code",
   "execution_count": 11,
   "metadata": {},
   "outputs": [
    {
     "data": {
      "text/plain": [
       "AGER_TYP                 685843\n",
       "ALTERSKATEGORIE_GROB       2881\n",
       "ANREDE_KZ                     0\n",
       "CJT_GESAMTTYP              4854\n",
       "FINANZ_MINIMALIST             0\n",
       "FINANZ_SPARER                 0\n",
       "FINANZ_VORSORGER              0\n",
       "FINANZ_ANLEGER                0\n",
       "FINANZ_UNAUFFAELLIGER         0\n",
       "FINANZ_HAUSBAUER              0\n",
       "FINANZTYP                     0\n",
       "GEBURTSJAHR              392318\n",
       "GFK_URLAUBERTYP            4854\n",
       "GREEN_AVANTGARDE              0\n",
       "HEALTH_TYP               111196\n",
       "LP_LEBENSPHASE_FEIN       97632\n",
       "LP_LEBENSPHASE_GROB       94572\n",
       "LP_FAMILIE_FEIN           77792\n",
       "LP_FAMILIE_GROB           77792\n",
       "LP_STATUS_FEIN             4854\n",
       "LP_STATUS_GROB             4854\n",
       "NATIONALITAET_KZ         108315\n",
       "PRAEGENDE_JUGENDJAHRE    108164\n",
       "RETOURTYP_BK_S             4854\n",
       "SEMIO_SOZ                     0\n",
       "SEMIO_FAM                     0\n",
       "SEMIO_REL                     0\n",
       "SEMIO_MAT                     0\n",
       "SEMIO_VERT                    0\n",
       "SEMIO_LUST                    0\n",
       "                          ...  \n",
       "OST_WEST_KZ               93148\n",
       "WOHNLAGE                  93148\n",
       "CAMEO_DEUG_2015           99352\n",
       "CAMEO_DEU_2015            99352\n",
       "CAMEO_INTL_2015           99352\n",
       "KBA05_ANTG1              133324\n",
       "KBA05_ANTG2              133324\n",
       "KBA05_ANTG3              133324\n",
       "KBA05_ANTG4              133324\n",
       "KBA05_BAUMAX             476524\n",
       "KBA05_GBZ                133324\n",
       "BALLRAUM                  93740\n",
       "EWDICHTE                  93740\n",
       "INNENSTADT                93740\n",
       "GEBAEUDETYP_RASTER        93155\n",
       "KKK                      158064\n",
       "MOBI_REGIO               133324\n",
       "ONLINE_AFFINITAET          4854\n",
       "REGIOTYP                 158064\n",
       "KBA13_ANZAHL_PKW         105800\n",
       "PLZ8_ANTG1               116515\n",
       "PLZ8_ANTG2               116515\n",
       "PLZ8_ANTG3               116515\n",
       "PLZ8_ANTG4               116515\n",
       "PLZ8_BAUMAX              116515\n",
       "PLZ8_HHZ                 116515\n",
       "PLZ8_GBZ                 116515\n",
       "ARBEIT                    97375\n",
       "ORTSGR_KLS9               97274\n",
       "RELAT_AB                  97375\n",
       "Length: 85, dtype: int64"
      ]
     },
     "execution_count": 11,
     "metadata": {},
     "output_type": "execute_result"
    }
   ],
   "source": [
    "copy_azdias.isnull().sum()"
   ]
  },
  {
   "cell_type": "code",
   "execution_count": 12,
   "metadata": {},
   "outputs": [
    {
     "data": {
      "text/plain": [
       "8373929"
      ]
     },
     "execution_count": 12,
     "metadata": {},
     "output_type": "execute_result"
    }
   ],
   "source": [
    "# To get total of missing data\n",
    "copy_azdias.isnull().sum().sum()"
   ]
  },
  {
   "cell_type": "markdown",
   "metadata": {},
   "source": [
    "#### Step 1.1.2: Assess Missing Data in Each Column\n",
    "\n",
    "How much missing data is present in each column? There are a few columns that are outliers in terms of the proportion of values that are missing. You will want to use matplotlib's [`hist()`](https://matplotlib.org/api/_as_gen/matplotlib.pyplot.hist.html) function to visualize the distribution of missing value counts to find these columns. Identify and document these columns. While some of these columns might have justifications for keeping or re-encoding the data, for this project you should just remove them from the dataframe. (Feel free to make remarks about these outlier columns in the discussion, however!)\n",
    "\n",
    "For the remaining features, are there any patterns in which columns have, or share, missing data?"
   ]
  },
  {
   "cell_type": "code",
   "execution_count": 13,
   "metadata": {},
   "outputs": [],
   "source": [
    "# Perform an assessment of how much missing data there is in each column of the\n",
    "# dataset.\n",
    "\n",
    "missing_data = copy_azdias.isnull().sum()\n",
    "#get percentage\n",
    "missing_data = missing_data[missing_data > 0]/(copy_azdias.shape[0]) * 100\n",
    "missing_data.sort_values(inplace=True)\n"
   ]
  },
  {
   "cell_type": "code",
   "execution_count": 14,
   "metadata": {},
   "outputs": [
    {
     "data": {
      "image/png": "[encoded data removed]",
      "text/plain": [
       "<matplotlib.figure.Figure at 0x7fb78fb594e0>"
      ]
     },
     "metadata": {
      "needs_background": "light"
     },
     "output_type": "display_data"
    }
   ],
   "source": [
    "# Investigate patterns in the amount of missing data in each column.\n",
    "plt.hist(missing_data, 20)\n",
    "\n",
    "plt.xlabel('Missing Data(%)')\n",
    "plt.ylabel('Counts')\n",
    "plt.title('Missing Data Density')\n",
    "plt.grid(True)\n",
    "plt.show()\n"
   ]
  },
  {
   "cell_type": "code",
   "execution_count": 15,
   "metadata": {},
   "outputs": [
    {
     "data": {
      "image/png": "[encoded data removed]",
      "text/plain": [
       "<matplotlib.figure.Figure at 0x7fb78d7bec18>"
      ]
     },
     "metadata": {
      "needs_background": "light"
     },
     "output_type": "display_data"
    }
   ],
   "source": [
    "missing_data.plot.bar(figsize=(15,10))\n",
    "plt.xlabel('Percentage of missing values')\n",
    "plt.ylabel('Columns')\n",
    "plt.show()"
   ]
  },
  {
   "cell_type": "code",
   "execution_count": 16,
   "metadata": {},
   "outputs": [
    {
     "name": "stdout",
     "output_type": "stream",
     "text": [
      "Percentage of Missing Data: 11.054 %\n"
     ]
    }
   ],
   "source": [
    "#How much data is missing\n",
    "print('Percentage of Missing Data:',round(copy_azdias.isnull().sum().sum()/np.product(copy_azdias.shape)*100,3),'%')"
   ]
  },
  {
   "cell_type": "code",
   "execution_count": 17,
   "metadata": {},
   "outputs": [
    {
     "name": "stdout",
     "output_type": "stream",
     "text": [
      "TITEL_KZ        0.997576\n",
      "AGER_TYP        0.769554\n",
      "KK_KUNDENTYP    0.655967\n",
      "KBA05_BAUMAX    0.534687\n",
      "GEBURTSJAHR     0.440203\n",
      "ALTER_HH        0.348137\n",
      "dtype: float64\n",
      "6\n"
     ]
    }
   ],
   "source": [
    "# Remove the outlier columns from the dataset. (You'll perform other data\n",
    "# engineering tasks such as re-encoding and imputation later.)\n",
    "\n",
    "# 20% to 40% looks to be the cut-off for missing data.\n",
    "Col_null = (copy_azdias.isnull().mean()).sort_values(ascending=False)\n",
    "Col_most_missingData = Col_null[Col_null>0.2]\n",
    "print(Col_most_missingData)\n",
    "print(len(Col_most_missingData))"
   ]
  },
  {
   "cell_type": "code",
   "execution_count": 18,
   "metadata": {},
   "outputs": [],
   "source": [
    "# Remove the outlier columns from the dataset. (You'll perform other data\n",
    "# engineering tasks such as re-encoding and imputation later.)\n",
    "missing_20 = [col for col in copy_azdias.columns \n",
    "               if (copy_azdias[col].isnull().sum()/copy_azdias.shape[0])* 100 > 20]\n",
    "\n",
    "for col in missing_20:\n",
    "    copy_azdias.drop(col, axis=1, inplace=True)"
   ]
  },
  {
   "cell_type": "markdown",
   "metadata": {},
   "source": [
    "#### Discussion 1.1.2: Assess Missing Data in Each Column\n",
    "\n",
    "(Double click this cell and replace this text with your own text, reporting your observations regarding the amount of missing data in each column. Are there any patterns in missing values? Which columns were removed from the dataset?)\n",
    "\n",
    "Looking at the histograph 20-35% is the cut-off for missing data.\n",
    "In this case we have gone with 20% as the cut-off.\n",
    "There are 6 columns exceeding the cut-off which we have dropped.\n",
    "\n",
    "TITEL_KZ <br>\n",
    "AGER_TYP <br>\n",
    "KK_KUNDENTYP <br>\n",
    "KBA05_BAUMAX <br>\n",
    "GEBURTSJAHR <br>\n",
    "ALTER_HH <br>"
   ]
  },
  {
   "cell_type": "markdown",
   "metadata": {},
   "source": [
    "#### Step 1.1.3: Assess Missing Data in Each Row\n",
    "\n",
    "Now, you'll perform a similar assessment for the rows of the dataset. How much data is missing in each row? As with the columns, you should see some groups of points that have a very different numbers of missing values. Divide the data into two subsets: one for data points that are above some threshold for missing values, and a second subset for points below that threshold.\n",
    "\n",
    "In order to know what to do with the outlier rows, we should see if the distribution of data values on columns that are not missing data (or are missing very little data) are similar or different between the two groups. Select at least five of these columns and compare the distribution of values.\n",
    "- You can use seaborn's [`countplot()`](https://seaborn.pydata.org/generated/seaborn.countplot.html) function to create a bar chart of code frequencies and matplotlib's [`subplot()`](https://matplotlib.org/api/_as_gen/matplotlib.pyplot.subplot.html) function to put bar charts for the two subplots side by side.\n",
    "- To reduce repeated code, you might want to write a function that can perform this comparison, taking as one of its arguments a column to be compared.\n",
    "\n",
    "Depending on what you observe in your comparison, this will have implications on how you approach your conclusions later in the analysis. If the distributions of non-missing features look similar between the data with many missing values and the data with few or no missing values, then we could argue that simply dropping those points from the analysis won't present a major issue. On the other hand, if the data with many missing values looks very different from the data with few or no missing values, then we should make a note on those data as special. We'll revisit these data later on. **Either way, you should continue your analysis for now using just the subset of the data with few or no missing values.**"
   ]
  },
  {
   "cell_type": "code",
   "execution_count": 19,
   "metadata": {},
   "outputs": [
    {
     "data": {
      "text/plain": [
       "732775    62.025316\n",
       "643174    62.025316\n",
       "472919    60.759494\n",
       "453262    59.493671\n",
       "183601    59.493671\n",
       "183599    59.493671\n",
       "318281    59.493671\n",
       "27533     59.493671\n",
       "526991    59.493671\n",
       "318320    59.493671\n",
       "318321    59.493671\n",
       "318322    59.493671\n",
       "527002    59.493671\n",
       "27531     59.493671\n",
       "221169    59.493671\n",
       "453260    59.493671\n",
       "318326    59.493671\n",
       "183499    59.493671\n",
       "221224    59.493671\n",
       "183496    59.493671\n",
       "288864    59.493671\n",
       "527051    59.493671\n",
       "183492    59.493671\n",
       "839537    59.493671\n",
       "453376    59.493671\n",
       "527069    59.493671\n",
       "453402    59.493671\n",
       "839529    59.493671\n",
       "839556    59.493671\n",
       "526503    59.493671\n",
       "            ...    \n",
       "664798     1.265823\n",
       "2775       1.265823\n",
       "110352     1.265823\n",
       "544336     1.265823\n",
       "309051     1.265823\n",
       "674239     1.265823\n",
       "309043     1.265823\n",
       "110302     1.265823\n",
       "664952     1.265823\n",
       "308988     1.265823\n",
       "308975     1.265823\n",
       "110346     1.265823\n",
       "884622     1.265823\n",
       "664958     1.265823\n",
       "884646     1.265823\n",
       "884661     1.265823\n",
       "747312     1.265823\n",
       "308889     1.265823\n",
       "884695     1.265823\n",
       "539502     1.265823\n",
       "308874     1.265823\n",
       "177403     1.265823\n",
       "309312     1.265823\n",
       "292273     1.265823\n",
       "884377     1.265823\n",
       "110232     1.265823\n",
       "110249     1.265823\n",
       "110252     1.265823\n",
       "674335     1.265823\n",
       "237075     1.265823\n",
       "Length: 268012, dtype: float64"
      ]
     },
     "execution_count": 19,
     "metadata": {},
     "output_type": "execute_result"
    }
   ],
   "source": [
    "# How much data is missing in each row of the dataset?\n",
    "missing_row_data = copy_azdias.isnull().sum(axis=1)\n",
    "missing_row_data = missing_row_data[missing_row_data > 0]/(len(copy_azdias.columns)) * 100\n",
    "missing_row_data.sort_values(inplace=True)\n",
    "missing_row_data.sort_values(ascending=False)"
   ]
  },
  {
   "cell_type": "code",
   "execution_count": 20,
   "metadata": {},
   "outputs": [
    {
     "data": {
      "image/png": "[encoded data removed]",
      "text/plain": [
       "<matplotlib.figure.Figure at 0x7fb78d64bef0>"
      ]
     },
     "metadata": {
      "needs_background": "light"
     },
     "output_type": "display_data"
    }
   ],
   "source": [
    "plt.hist(missing_row_data, 20)\n",
    "\n",
    "plt.xlabel('Missing Data(%)')\n",
    "plt.ylabel('Counts')\n",
    "plt.title('Missing Data Density')\n",
    "plt.grid(True)\n",
    "plt.show()"
   ]
  },
  {
   "cell_type": "code",
   "execution_count": 21,
   "metadata": {},
   "outputs": [
    {
     "data": {
      "text/plain": [
       "5035304"
      ]
     },
     "execution_count": 21,
     "metadata": {},
     "output_type": "execute_result"
    }
   ],
   "source": [
    "missing_row_data = copy_azdias.isnull().sum(axis=1)\n",
    "missing_row_data.sum()"
   ]
  },
  {
   "cell_type": "code",
   "execution_count": 22,
   "metadata": {},
   "outputs": [],
   "source": [
    "# Write code to divide the data into two subsets based on the number of missing\n",
    "# values in each row.\n",
    "\n",
    "# Will start with 10% as it is reasonable\n",
    "missing_Low_rate = copy_azdias[copy_azdias.isnull().sum(axis=1) < 10].reset_index(drop=True)\n",
    "missing_High_rate = copy_azdias[copy_azdias.isnull().sum(axis=1) >= 10].reset_index(drop=True)"
   ]
  },
  {
   "cell_type": "code",
   "execution_count": 23,
   "metadata": {},
   "outputs": [
    {
     "data": {
      "image/png": "[encoded data removed]",
      "text/plain": [
       "<matplotlib.figure.Figure at 0x7fb7877aa358>"
      ]
     },
     "metadata": {
      "needs_background": "light"
     },
     "output_type": "display_data"
    }
   ],
   "source": [
    "# Compare the distribution of values for at least five columns where there are\n",
    "# no or few missing values, between the two subsets.\n",
    "\n",
    "def countplot(columns, num):\n",
    "    fig, axs = plt.subplots(num, 2, figsize=(10, 10))\n",
    "    fig.subplots_adjust(hspace=2 , wspace=.5)\n",
    "    #return a flattened 1D array\n",
    "    axs = axs.ravel()\n",
    "    \n",
    "    for i in range(num):       \n",
    "        sns.countplot(missing_Low_rate[columns[i]], ax=axs[i*2])\n",
    "        axs[i*2].set_title('missing_data_rows_low')\n",
    "        sns.countplot(missing_High_rate[columns[i]], ax=axs[i*2+1])\n",
    "        axs[i*2+1].set_title('missing_data_rows_high')\n",
    "        \n",
    "countplot(missing_Low_rate.columns, 5)"
   ]
  },
  {
   "cell_type": "code",
   "execution_count": 24,
   "metadata": {},
   "outputs": [
    {
     "name": "stdout",
     "output_type": "stream",
     "text": [
      "Rows High rate of missing data:  116478\n",
      "Percentage:  13.069 %\n"
     ]
    }
   ],
   "source": [
    "print('Rows High rate of missing data: ', missing_High_rate.shape[0])\n",
    "print('Percentage: ',np.round(missing_High_rate.shape[0]*100/missing_row_data.shape[0],3),'%')"
   ]
  },
  {
   "cell_type": "code",
   "execution_count": 25,
   "metadata": {},
   "outputs": [],
   "source": [
    "# low missing data\n",
    "lowNaN = missing_Low_rate"
   ]
  },
  {
   "cell_type": "code",
   "execution_count": 26,
   "metadata": {},
   "outputs": [],
   "source": [
    "lowNaN = missing_Low_rate"
   ]
  },
  {
   "cell_type": "markdown",
   "metadata": {},
   "source": [
    "#### Discussion 1.1.3: Assess Missing Data in Each Row\n",
    "\n",
    "(Double-click this cell and replace this text with your own text, reporting your observations regarding missing data in rows. Are the data with lots of missing values are qualitatively different from data with few or no missing values?)\n",
    "\n",
    "From second diagram we can see that different rows have different missing data. <br>\n",
    "Based on first plot there no clear cut-off in separating subsets but we have selected 10%. <br>\n",
    "13.07% of the rows have higher than 10% missing data."
   ]
  },
  {
   "cell_type": "markdown",
   "metadata": {},
   "source": [
    "### Step 1.2: Select and Re-Encode Features\n",
    "\n",
    "Checking for missing data isn't the only way in which you can prepare a dataset for analysis. Since the unsupervised learning techniques to be used will only work on data that is encoded numerically, you need to make a few encoding changes or additional assumptions to be able to make progress. In addition, while almost all of the values in the dataset are encoded using numbers, not all of them represent numeric values. Check the third column of the feature summary (`feat_info`) for a summary of types of measurement.\n",
    "- For numeric and interval data, these features can be kept without changes.\n",
    "- Most of the variables in the dataset are ordinal in nature. While ordinal values may technically be non-linear in spacing, make the simplifying assumption that the ordinal variables can be treated as being interval in nature (that is, kept without any changes).\n",
    "- Special handling may be necessary for the remaining two variable types: categorical, and 'mixed'.\n",
    "\n",
    "In the first two parts of this sub-step, you will perform an investigation of the categorical and mixed-type features and make a decision on each of them, whether you will keep, drop, or re-encode each. Then, in the last part, you will create a new data frame with only the selected and engineered columns.\n",
    "\n",
    "Data wrangling is often the trickiest part of the data analysis process, and there's a lot of it to be done here. But stick with it: once you're done with this step, you'll be ready to get to the machine learning parts of the project!"
   ]
  },
  {
   "cell_type": "code",
   "execution_count": 27,
   "metadata": {},
   "outputs": [
    {
     "data": {
      "text/plain": [
       "(79, 4)"
      ]
     },
     "execution_count": 27,
     "metadata": {},
     "output_type": "execute_result"
    }
   ],
   "source": [
    "feat_info = feat_info[feat_info.attribute.isin(copy_azdias.columns)]\n",
    "feat_info.shape"
   ]
  },
  {
   "cell_type": "code",
   "execution_count": 28,
   "metadata": {},
   "outputs": [
    {
     "data": {
      "image/png": "[encoded data removed]",
      "text/plain": [
       "<matplotlib.figure.Figure at 0x7fb78c3561d0>"
      ]
     },
     "metadata": {
      "needs_background": "light"
     },
     "output_type": "display_data"
    }
   ],
   "source": [
    "# Divide by data type.\n",
    "fig, ax1 = plt.subplots(figsize=(10,5))\n",
    "sns.countplot(data=feat_info,\n",
    "              x='type',\n",
    "              ax=ax1)\n",
    "ax1.set_ylabel('Feature')\n",
    "ax1.set_xlabel('Type')\n",
    "for p in ax1.patches:\n",
    "    ax1.annotate('{:.0f}'.format(p.get_height()), (p.get_x(), p.get_height()+0.7))\n",
    "sns.despine(ax=ax1);"
   ]
  },
  {
   "cell_type": "markdown",
   "metadata": {},
   "source": [
    "#### Step 1.2.1: Re-Encode Categorical Features\n",
    "\n",
    "For categorical data, you would ordinarily need to encode the levels as dummy variables. Depending on the number of categories, perform one of the following:\n",
    "- For binary (two-level) categoricals that take numeric values, you can keep them without needing to do anything.\n",
    "- There is one binary variable that takes on non-numeric values. For this one, you need to re-encode the values as numbers or create a dummy variable.\n",
    "- For multi-level categoricals (three or more values), you can choose to encode the values using multiple dummy variables (e.g. via [OneHotEncoder](http://scikit-learn.org/stable/modules/generated/sklearn.preprocessing.OneHotEncoder.html)), or (to keep things straightforward) just drop them from the analysis. As always, document your choices in the Discussion section."
   ]
  },
  {
   "cell_type": "code",
   "execution_count": 29,
   "metadata": {},
   "outputs": [
    {
     "data": {
      "text/html": [
       "<div>\n",
       "<style scoped>\n",
       "    .dataframe tbody tr th:only-of-type {\n",
       "        vertical-align: middle;\n",
       "    }\n",
       "\n",
       "    .dataframe tbody tr th {\n",
       "        vertical-align: top;\n",
       "    }\n",
       "\n",
       "    .dataframe thead th {\n",
       "        text-align: right;\n",
       "    }\n",
       "</style>\n",
       "<table border=\"1\" class=\"dataframe\">\n",
       "  <thead>\n",
       "    <tr style=\"text-align: right;\">\n",
       "      <th></th>\n",
       "      <th>attribute</th>\n",
       "      <th>information_level</th>\n",
       "      <th>type</th>\n",
       "      <th>missing_or_unknown</th>\n",
       "    </tr>\n",
       "  </thead>\n",
       "  <tbody>\n",
       "    <tr>\n",
       "      <th>2</th>\n",
       "      <td>ANREDE_KZ</td>\n",
       "      <td>person</td>\n",
       "      <td>categorical</td>\n",
       "      <td>[-1, 0]</td>\n",
       "    </tr>\n",
       "    <tr>\n",
       "      <th>3</th>\n",
       "      <td>CJT_GESAMTTYP</td>\n",
       "      <td>person</td>\n",
       "      <td>categorical</td>\n",
       "      <td>[0]</td>\n",
       "    </tr>\n",
       "    <tr>\n",
       "      <th>10</th>\n",
       "      <td>FINANZTYP</td>\n",
       "      <td>person</td>\n",
       "      <td>categorical</td>\n",
       "      <td>[-1]</td>\n",
       "    </tr>\n",
       "    <tr>\n",
       "      <th>12</th>\n",
       "      <td>GFK_URLAUBERTYP</td>\n",
       "      <td>person</td>\n",
       "      <td>categorical</td>\n",
       "      <td>[]</td>\n",
       "    </tr>\n",
       "    <tr>\n",
       "      <th>13</th>\n",
       "      <td>GREEN_AVANTGARDE</td>\n",
       "      <td>person</td>\n",
       "      <td>categorical</td>\n",
       "      <td>[]</td>\n",
       "    </tr>\n",
       "    <tr>\n",
       "      <th>17</th>\n",
       "      <td>LP_FAMILIE_FEIN</td>\n",
       "      <td>person</td>\n",
       "      <td>categorical</td>\n",
       "      <td>[0]</td>\n",
       "    </tr>\n",
       "    <tr>\n",
       "      <th>18</th>\n",
       "      <td>LP_FAMILIE_GROB</td>\n",
       "      <td>person</td>\n",
       "      <td>categorical</td>\n",
       "      <td>[0]</td>\n",
       "    </tr>\n",
       "    <tr>\n",
       "      <th>19</th>\n",
       "      <td>LP_STATUS_FEIN</td>\n",
       "      <td>person</td>\n",
       "      <td>categorical</td>\n",
       "      <td>[0]</td>\n",
       "    </tr>\n",
       "    <tr>\n",
       "      <th>20</th>\n",
       "      <td>LP_STATUS_GROB</td>\n",
       "      <td>person</td>\n",
       "      <td>categorical</td>\n",
       "      <td>[0]</td>\n",
       "    </tr>\n",
       "    <tr>\n",
       "      <th>21</th>\n",
       "      <td>NATIONALITAET_KZ</td>\n",
       "      <td>person</td>\n",
       "      <td>categorical</td>\n",
       "      <td>[-1, 0]</td>\n",
       "    </tr>\n",
       "    <tr>\n",
       "      <th>38</th>\n",
       "      <td>SHOPPER_TYP</td>\n",
       "      <td>person</td>\n",
       "      <td>categorical</td>\n",
       "      <td>[-1]</td>\n",
       "    </tr>\n",
       "    <tr>\n",
       "      <th>39</th>\n",
       "      <td>SOHO_KZ</td>\n",
       "      <td>person</td>\n",
       "      <td>categorical</td>\n",
       "      <td>[-1]</td>\n",
       "    </tr>\n",
       "    <tr>\n",
       "      <th>41</th>\n",
       "      <td>VERS_TYP</td>\n",
       "      <td>person</td>\n",
       "      <td>categorical</td>\n",
       "      <td>[-1]</td>\n",
       "    </tr>\n",
       "    <tr>\n",
       "      <th>42</th>\n",
       "      <td>ZABEOTYP</td>\n",
       "      <td>person</td>\n",
       "      <td>categorical</td>\n",
       "      <td>[-1, 9]</td>\n",
       "    </tr>\n",
       "    <tr>\n",
       "      <th>52</th>\n",
       "      <td>GEBAEUDETYP</td>\n",
       "      <td>building</td>\n",
       "      <td>categorical</td>\n",
       "      <td>[-1, 0]</td>\n",
       "    </tr>\n",
       "    <tr>\n",
       "      <th>55</th>\n",
       "      <td>OST_WEST_KZ</td>\n",
       "      <td>building</td>\n",
       "      <td>categorical</td>\n",
       "      <td>[-1]</td>\n",
       "    </tr>\n",
       "    <tr>\n",
       "      <th>57</th>\n",
       "      <td>CAMEO_DEUG_2015</td>\n",
       "      <td>microcell_rr4</td>\n",
       "      <td>categorical</td>\n",
       "      <td>[-1, X]</td>\n",
       "    </tr>\n",
       "    <tr>\n",
       "      <th>58</th>\n",
       "      <td>CAMEO_DEU_2015</td>\n",
       "      <td>microcell_rr4</td>\n",
       "      <td>categorical</td>\n",
       "      <td>[XX]</td>\n",
       "    </tr>\n",
       "  </tbody>\n",
       "</table>\n",
       "</div>"
      ],
      "text/plain": [
       "           attribute information_level         type missing_or_unknown\n",
       "2          ANREDE_KZ            person  categorical            [-1, 0]\n",
       "3      CJT_GESAMTTYP            person  categorical                [0]\n",
       "10         FINANZTYP            person  categorical               [-1]\n",
       "12   GFK_URLAUBERTYP            person  categorical                 []\n",
       "13  GREEN_AVANTGARDE            person  categorical                 []\n",
       "17   LP_FAMILIE_FEIN            person  categorical                [0]\n",
       "18   LP_FAMILIE_GROB            person  categorical                [0]\n",
       "19    LP_STATUS_FEIN            person  categorical                [0]\n",
       "20    LP_STATUS_GROB            person  categorical                [0]\n",
       "21  NATIONALITAET_KZ            person  categorical            [-1, 0]\n",
       "38       SHOPPER_TYP            person  categorical               [-1]\n",
       "39           SOHO_KZ            person  categorical               [-1]\n",
       "41          VERS_TYP            person  categorical               [-1]\n",
       "42          ZABEOTYP            person  categorical            [-1, 9]\n",
       "52       GEBAEUDETYP          building  categorical            [-1, 0]\n",
       "55       OST_WEST_KZ          building  categorical               [-1]\n",
       "57   CAMEO_DEUG_2015     microcell_rr4  categorical            [-1, X]\n",
       "58    CAMEO_DEU_2015     microcell_rr4  categorical               [XX]"
      ]
     },
     "execution_count": 29,
     "metadata": {},
     "output_type": "execute_result"
    }
   ],
   "source": [
    "# Assess categorical variables: which are binary, which are multi-level, and\n",
    "# which one needs to be re-encoded?\n",
    "feat_info[feat_info.type == 'categorical']"
   ]
  },
  {
   "cell_type": "code",
   "execution_count": 30,
   "metadata": {},
   "outputs": [
    {
     "data": {
      "text/plain": [
       "information_level\n",
       "building          2\n",
       "microcell_rr4     2\n",
       "person           14\n",
       "Name: missing_or_unknown, dtype: int64"
      ]
     },
     "execution_count": 30,
     "metadata": {},
     "output_type": "execute_result"
    }
   ],
   "source": [
    "feat_info[feat_info.type == 'categorical'].groupby('information_level').count().iloc[:,-1]"
   ]
  },
  {
   "cell_type": "code",
   "execution_count": 31,
   "metadata": {},
   "outputs": [
    {
     "data": {
      "text/plain": [
       "2            ANREDE_KZ\n",
       "3        CJT_GESAMTTYP\n",
       "10           FINANZTYP\n",
       "12     GFK_URLAUBERTYP\n",
       "13    GREEN_AVANTGARDE\n",
       "17     LP_FAMILIE_FEIN\n",
       "18     LP_FAMILIE_GROB\n",
       "19      LP_STATUS_FEIN\n",
       "20      LP_STATUS_GROB\n",
       "21    NATIONALITAET_KZ\n",
       "38         SHOPPER_TYP\n",
       "39             SOHO_KZ\n",
       "41            VERS_TYP\n",
       "42            ZABEOTYP\n",
       "52         GEBAEUDETYP\n",
       "55         OST_WEST_KZ\n",
       "57     CAMEO_DEUG_2015\n",
       "58      CAMEO_DEU_2015\n",
       "Name: attribute, dtype: object"
      ]
     },
     "execution_count": 31,
     "metadata": {},
     "output_type": "execute_result"
    }
   ],
   "source": [
    "df_categorical = feat_info[feat_info.type == 'categorical'].attribute\n",
    "df_categorical"
   ]
  },
  {
   "cell_type": "code",
   "execution_count": 32,
   "metadata": {},
   "outputs": [
    {
     "data": {
      "text/plain": [
       "ANREDE_KZ            2\n",
       "OST_WEST_KZ          2\n",
       "VERS_TYP             2\n",
       "SOHO_KZ              2\n",
       "GREEN_AVANTGARDE     2\n",
       "NATIONALITAET_KZ     3\n",
       "SHOPPER_TYP          4\n",
       "LP_STATUS_GROB       5\n",
       "LP_FAMILIE_GROB      5\n",
       "FINANZTYP            6\n",
       "ZABEOTYP             6\n",
       "CJT_GESAMTTYP        6\n",
       "GEBAEUDETYP          7\n",
       "CAMEO_DEUG_2015      9\n",
       "LP_STATUS_FEIN      10\n",
       "LP_FAMILIE_FEIN     11\n",
       "GFK_URLAUBERTYP     12\n",
       "CAMEO_DEU_2015      44\n",
       "dtype: int64"
      ]
     },
     "execution_count": 32,
     "metadata": {},
     "output_type": "execute_result"
    }
   ],
   "source": [
    "# Get the unique values\n",
    "lowNaN[df_categorical].nunique().sort_values()"
   ]
  },
  {
   "cell_type": "code",
   "execution_count": 33,
   "metadata": {},
   "outputs": [
    {
     "name": "stdout",
     "output_type": "stream",
     "text": [
      "Sum of(2): 5 \n",
      "Sum of greater than (2): 13\n"
     ]
    }
   ],
   "source": [
    "# Important to know how many have 2 categories or 2 or more categories.\n",
    "# 2 can be done with binary variable\n",
    "# 3 or more requires one hot encoding.\n",
    "print('Sum of(2):', sum(lowNaN[df_categorical].nunique() == 2) ,'\\nSum of greater than (2):',sum(lowNaN[df_categorical].nunique() > 2))"
   ]
  },
  {
   "cell_type": "code",
   "execution_count": 34,
   "metadata": {},
   "outputs": [
    {
     "data": {
      "text/plain": [
       "ANREDE_KZ           float64\n",
       "CJT_GESAMTTYP       float64\n",
       "FINANZTYP           float64\n",
       "GFK_URLAUBERTYP     float64\n",
       "GREEN_AVANTGARDE      int64\n",
       "LP_FAMILIE_FEIN     float64\n",
       "LP_FAMILIE_GROB     float64\n",
       "LP_STATUS_FEIN      float64\n",
       "LP_STATUS_GROB      float64\n",
       "NATIONALITAET_KZ    float64\n",
       "SHOPPER_TYP         float64\n",
       "SOHO_KZ             float64\n",
       "VERS_TYP            float64\n",
       "ZABEOTYP            float64\n",
       "GEBAEUDETYP         float64\n",
       "OST_WEST_KZ          object\n",
       "CAMEO_DEUG_2015      object\n",
       "CAMEO_DEU_2015       object\n",
       "dtype: object"
      ]
     },
     "execution_count": 34,
     "metadata": {},
     "output_type": "execute_result"
    }
   ],
   "source": [
    "# Some strange categories \n",
    "lowNaN[df_categorical].dtypes"
   ]
  },
  {
   "cell_type": "code",
   "execution_count": 35,
   "metadata": {},
   "outputs": [
    {
     "data": {
      "text/html": [
       "<div>\n",
       "<style scoped>\n",
       "    .dataframe tbody tr th:only-of-type {\n",
       "        vertical-align: middle;\n",
       "    }\n",
       "\n",
       "    .dataframe tbody tr th {\n",
       "        vertical-align: top;\n",
       "    }\n",
       "\n",
       "    .dataframe thead th {\n",
       "        text-align: right;\n",
       "    }\n",
       "</style>\n",
       "<table border=\"1\" class=\"dataframe\">\n",
       "  <thead>\n",
       "    <tr style=\"text-align: right;\">\n",
       "      <th></th>\n",
       "      <th>OST_WEST_KZ</th>\n",
       "      <th>CAMEO_DEUG_2015</th>\n",
       "      <th>CAMEO_DEU_2015</th>\n",
       "    </tr>\n",
       "  </thead>\n",
       "  <tbody>\n",
       "    <tr>\n",
       "      <th>512287</th>\n",
       "      <td>0</td>\n",
       "      <td>9</td>\n",
       "      <td>9B</td>\n",
       "    </tr>\n",
       "    <tr>\n",
       "      <th>356057</th>\n",
       "      <td>0</td>\n",
       "      <td>4</td>\n",
       "      <td>4C</td>\n",
       "    </tr>\n",
       "    <tr>\n",
       "      <th>145707</th>\n",
       "      <td>1</td>\n",
       "      <td>8</td>\n",
       "      <td>8B</td>\n",
       "    </tr>\n",
       "    <tr>\n",
       "      <th>6238</th>\n",
       "      <td>1</td>\n",
       "      <td>3</td>\n",
       "      <td>3C</td>\n",
       "    </tr>\n",
       "    <tr>\n",
       "      <th>228062</th>\n",
       "      <td>1</td>\n",
       "      <td>2</td>\n",
       "      <td>2A</td>\n",
       "    </tr>\n",
       "  </tbody>\n",
       "</table>\n",
       "</div>"
      ],
      "text/plain": [
       "        OST_WEST_KZ CAMEO_DEUG_2015 CAMEO_DEU_2015\n",
       "512287            0               9             9B\n",
       "356057            0               4             4C\n",
       "145707            1               8             8B\n",
       "6238              1               3             3C\n",
       "228062            1               2             2A"
      ]
     },
     "execution_count": 35,
     "metadata": {},
     "output_type": "execute_result"
    }
   ],
   "source": [
    "lowNaN['OST_WEST_KZ'] = lowNaN['OST_WEST_KZ'].replace({'O': 0, 'W': 1})\n",
    "lowNaN[df_categorical[-3:]].sample(5)"
   ]
  },
  {
   "cell_type": "code",
   "execution_count": 36,
   "metadata": {},
   "outputs": [
    {
     "name": "stdout",
     "output_type": "stream",
     "text": [
      "<class 'pandas.core.frame.DataFrame'>\n",
      "RangeIndex: 774743 entries, 0 to 774742\n",
      "Data columns (total 66 columns):\n",
      "ALTERSKATEGORIE_GROB     772147 non-null float64\n",
      "ANREDE_KZ                774743 non-null float64\n",
      "FINANZ_MINIMALIST        774743 non-null float64\n",
      "FINANZ_SPARER            774743 non-null float64\n",
      "FINANZ_VORSORGER         774743 non-null float64\n",
      "FINANZ_ANLEGER           774743 non-null float64\n",
      "FINANZ_UNAUFFAELLIGER    774743 non-null float64\n",
      "FINANZ_HAUSBAUER         774743 non-null float64\n",
      "GREEN_AVANTGARDE         774743 non-null int64\n",
      "HEALTH_TYP               741323 non-null float64\n",
      "LP_LEBENSPHASE_FEIN      732988 non-null float64\n",
      "LP_LEBENSPHASE_GROB      735655 non-null float64\n",
      "PRAEGENDE_JUGENDJAHRE    749241 non-null float64\n",
      "RETOURTYP_BK_S           774743 non-null float64\n",
      "SEMIO_SOZ                774743 non-null float64\n",
      "SEMIO_FAM                774743 non-null float64\n",
      "SEMIO_REL                774743 non-null float64\n",
      "SEMIO_MAT                774743 non-null float64\n",
      "SEMIO_VERT               774743 non-null float64\n",
      "SEMIO_LUST               774743 non-null float64\n",
      "SEMIO_ERL                774743 non-null float64\n",
      "SEMIO_KULT               774743 non-null float64\n",
      "SEMIO_RAT                774743 non-null float64\n",
      "SEMIO_KRIT               774743 non-null float64\n",
      "SEMIO_DOM                774743 non-null float64\n",
      "SEMIO_KAEM               774743 non-null float64\n",
      "SEMIO_PFLICHT            774743 non-null float64\n",
      "SEMIO_TRADV              774743 non-null float64\n",
      "SOHO_KZ                  774743 non-null float64\n",
      "VERS_TYP                 741323 non-null float64\n",
      "ANZ_PERSONEN             774743 non-null float64\n",
      "ANZ_TITEL                774743 non-null float64\n",
      "HH_EINKOMMEN_SCORE       774743 non-null float64\n",
      "W_KEIT_KIND_HH           719486 non-null float64\n",
      "WOHNDAUER_2008           774743 non-null float64\n",
      "ANZ_HAUSHALTE_AKTIV      769092 non-null float64\n",
      "ANZ_HH_TITEL             771580 non-null float64\n",
      "KONSUMNAEHE              774692 non-null float64\n",
      "MIN_GEBAEUDEJAHR         774743 non-null float64\n",
      "OST_WEST_KZ              774743 non-null int64\n",
      "WOHNLAGE                 774743 non-null float64\n",
      "CAMEO_INTL_2015          771287 non-null object\n",
      "KBA05_ANTG1              750542 non-null float64\n",
      "KBA05_ANTG2              750542 non-null float64\n",
      "KBA05_ANTG3              750542 non-null float64\n",
      "KBA05_ANTG4              750542 non-null float64\n",
      "KBA05_GBZ                750542 non-null float64\n",
      "BALLRAUM                 774217 non-null float64\n",
      "EWDICHTE                 774217 non-null float64\n",
      "INNENSTADT               774217 non-null float64\n",
      "GEBAEUDETYP_RASTER       774738 non-null float64\n",
      "KKK                      720607 non-null float64\n",
      "MOBI_REGIO               750542 non-null float64\n",
      "ONLINE_AFFINITAET        774743 non-null float64\n",
      "REGIOTYP                 720607 non-null float64\n",
      "KBA13_ANZAHL_PKW         769260 non-null float64\n",
      "PLZ8_ANTG1               766960 non-null float64\n",
      "PLZ8_ANTG2               766960 non-null float64\n",
      "PLZ8_ANTG3               766960 non-null float64\n",
      "PLZ8_ANTG4               766960 non-null float64\n",
      "PLZ8_BAUMAX              766960 non-null float64\n",
      "PLZ8_HHZ                 766960 non-null float64\n",
      "PLZ8_GBZ                 766960 non-null float64\n",
      "ARBEIT                   770807 non-null float64\n",
      "ORTSGR_KLS9              770893 non-null float64\n",
      "RELAT_AB                 770807 non-null float64\n",
      "dtypes: float64(63), int64(2), object(1)\n",
      "memory usage: 390.1+ MB\n"
     ]
    }
   ],
   "source": [
    "# Re-encode categorical variable(s) to be kept in the analysis.\n",
    "# Easier to drop multi level.\n",
    "nunique_categorical = lowNaN[df_categorical].nunique()\n",
    "multi_categorical = nunique_categorical[nunique_categorical>2]\n",
    "lowNaN = lowNaN.drop(columns=multi_categorical.index, axis=0)\n",
    "lowNaN.info()"
   ]
  },
  {
   "cell_type": "markdown",
   "metadata": {},
   "source": [
    "#### Discussion 1.2.1: Re-Encode Categorical Features\n",
    "\n",
    "(Double-click this cell and replace this text with your own text, reporting your findings and decisions regarding categorical features. Which ones did you keep, which did you drop, and what engineering steps did you perform?)\n",
    "\n",
    "Didnt actually do much direct re-coding.<br>\n",
    "The binary levels were kept as is <br>\n",
    "Multi level where there were more than 3 discrete values were dropped <br>\n"
   ]
  },
  {
   "cell_type": "markdown",
   "metadata": {},
   "source": [
    "#### Step 1.2.2: Engineer Mixed-Type Features\n",
    "\n",
    "There are a handful of features that are marked as \"mixed\" in the feature summary that require special treatment in order to be included in the analysis. There are two in particular that deserve attention; the handling of the rest are up to your own choices:\n",
    "- \"PRAEGENDE_JUGENDJAHRE\" combines information on three dimensions: generation by decade, movement (mainstream vs. avantgarde), and nation (east vs. west). While there aren't enough levels to disentangle east from west, you should create two new variables to capture the other two dimensions: an interval-type variable for decade, and a binary variable for movement.\n",
    "- \"CAMEO_INTL_2015\" combines information on two axes: wealth and life stage. Break up the two-digit codes by their 'tens'-place and 'ones'-place digits into two new ordinal variables (which, for the purposes of this project, is equivalent to just treating them as their raw numeric values).\n",
    "- If you decide to keep or engineer new features around the other mixed-type features, make sure you note your steps in the Discussion section.\n",
    "\n",
    "Be sure to check `Data_Dictionary.md` for the details needed to finish these tasks."
   ]
  },
  {
   "cell_type": "code",
   "execution_count": 37,
   "metadata": {},
   "outputs": [
    {
     "data": {
      "text/html": [
       "<div>\n",
       "<style scoped>\n",
       "    .dataframe tbody tr th:only-of-type {\n",
       "        vertical-align: middle;\n",
       "    }\n",
       "\n",
       "    .dataframe tbody tr th {\n",
       "        vertical-align: top;\n",
       "    }\n",
       "\n",
       "    .dataframe thead th {\n",
       "        text-align: right;\n",
       "    }\n",
       "</style>\n",
       "<table border=\"1\" class=\"dataframe\">\n",
       "  <thead>\n",
       "    <tr style=\"text-align: right;\">\n",
       "      <th></th>\n",
       "      <th>attribute</th>\n",
       "      <th>information_level</th>\n",
       "      <th>type</th>\n",
       "      <th>missing_or_unknown</th>\n",
       "    </tr>\n",
       "  </thead>\n",
       "  <tbody>\n",
       "    <tr>\n",
       "      <th>15</th>\n",
       "      <td>LP_LEBENSPHASE_FEIN</td>\n",
       "      <td>person</td>\n",
       "      <td>mixed</td>\n",
       "      <td>[0]</td>\n",
       "    </tr>\n",
       "    <tr>\n",
       "      <th>16</th>\n",
       "      <td>LP_LEBENSPHASE_GROB</td>\n",
       "      <td>person</td>\n",
       "      <td>mixed</td>\n",
       "      <td>[0]</td>\n",
       "    </tr>\n",
       "    <tr>\n",
       "      <th>22</th>\n",
       "      <td>PRAEGENDE_JUGENDJAHRE</td>\n",
       "      <td>person</td>\n",
       "      <td>mixed</td>\n",
       "      <td>[-1, 0]</td>\n",
       "    </tr>\n",
       "    <tr>\n",
       "      <th>56</th>\n",
       "      <td>WOHNLAGE</td>\n",
       "      <td>building</td>\n",
       "      <td>mixed</td>\n",
       "      <td>[-1]</td>\n",
       "    </tr>\n",
       "    <tr>\n",
       "      <th>59</th>\n",
       "      <td>CAMEO_INTL_2015</td>\n",
       "      <td>microcell_rr4</td>\n",
       "      <td>mixed</td>\n",
       "      <td>[-1, XX]</td>\n",
       "    </tr>\n",
       "    <tr>\n",
       "      <th>79</th>\n",
       "      <td>PLZ8_BAUMAX</td>\n",
       "      <td>macrocell_plz8</td>\n",
       "      <td>mixed</td>\n",
       "      <td>[-1, 0]</td>\n",
       "    </tr>\n",
       "  </tbody>\n",
       "</table>\n",
       "</div>"
      ],
      "text/plain": [
       "                attribute information_level   type missing_or_unknown\n",
       "15    LP_LEBENSPHASE_FEIN            person  mixed                [0]\n",
       "16    LP_LEBENSPHASE_GROB            person  mixed                [0]\n",
       "22  PRAEGENDE_JUGENDJAHRE            person  mixed            [-1, 0]\n",
       "56               WOHNLAGE          building  mixed               [-1]\n",
       "59        CAMEO_INTL_2015     microcell_rr4  mixed           [-1, XX]\n",
       "79            PLZ8_BAUMAX    macrocell_plz8  mixed            [-1, 0]"
      ]
     },
     "execution_count": 37,
     "metadata": {},
     "output_type": "execute_result"
    }
   ],
   "source": [
    "# Investigate \"PRAEGENDE_JUGENDJAHRE\" and engineer two new variables.\n",
    "\n",
    "# Not many mixed categories\n",
    "feat_info[feat_info.type == 'mixed']"
   ]
  },
  {
   "cell_type": "code",
   "execution_count": 38,
   "metadata": {},
   "outputs": [
    {
     "data": {
      "text/plain": [
       "248724    10.0\n",
       "377331    13.0\n",
       "753059    10.0\n",
       "485262    10.0\n",
       "212545     5.0\n",
       "10942      5.0\n",
       "432273     8.0\n",
       "648066    14.0\n",
       "509193     4.0\n",
       "309987     1.0\n",
       "572908    14.0\n",
       "641314     3.0\n",
       "455293    11.0\n",
       "468618     6.0\n",
       "687251     5.0\n",
       "432504    11.0\n",
       "223968     9.0\n",
       "174579    14.0\n",
       "247344    10.0\n",
       "262517    10.0\n",
       "Name: PRAEGENDE_JUGENDJAHRE, dtype: float64"
      ]
     },
     "execution_count": 38,
     "metadata": {},
     "output_type": "execute_result"
    }
   ],
   "source": [
    "lowNaN.PRAEGENDE_JUGENDJAHRE.sample(20)"
   ]
  },
  {
   "cell_type": "code",
   "execution_count": 39,
   "metadata": {},
   "outputs": [
    {
     "data": {
      "text/plain": [
       "15"
      ]
     },
     "execution_count": 39,
     "metadata": {},
     "output_type": "execute_result"
    }
   ],
   "source": [
    "lowNaN.PRAEGENDE_JUGENDJAHRE.nunique()"
   ]
  },
  {
   "cell_type": "code",
   "execution_count": 40,
   "metadata": {},
   "outputs": [
    {
     "data": {
      "image/png": "[encoded data removed]",
      "text/plain": [
       "<matplotlib.figure.Figure at 0x7fb78c3bca20>"
      ]
     },
     "metadata": {
      "needs_background": "light"
     },
     "output_type": "display_data"
    }
   ],
   "source": [
    "fig, ax1 = plt.subplots(figsize=(10,5))\n",
    "sns.countplot(data=lowNaN,\n",
    "              x='PRAEGENDE_JUGENDJAHRE',\n",
    "              ax=ax1);"
   ]
  },
  {
   "cell_type": "code",
   "execution_count": 41,
   "metadata": {},
   "outputs": [
    {
     "data": {
      "text/plain": [
       "14.0    177574\n",
       "8.0     137903\n",
       "10.0     83394\n",
       "5.0      83112\n",
       "3.0      52758\n",
       "15.0     40803\n",
       "11.0     34385\n",
       "9.0      32939\n",
       "6.0      25311\n",
       "12.0     23925\n",
       "4.0      20185\n",
       "1.0      20106\n",
       "2.0       7387\n",
       "13.0      5520\n",
       "7.0       3939\n",
       "Name: PRAEGENDE_JUGENDJAHRE, dtype: int64"
      ]
     },
     "execution_count": 41,
     "metadata": {},
     "output_type": "execute_result"
    }
   ],
   "source": [
    "lowNaN.PRAEGENDE_JUGENDJAHRE.value_counts().sort_values(ascending=False)"
   ]
  },
  {
   "cell_type": "code",
   "execution_count": 42,
   "metadata": {},
   "outputs": [
    {
     "name": "stdout",
     "output_type": "stream",
     "text": [
      "Percentage NaNs\"s avg in PRAEGENDE_JUGENDJAHRE: 3.29167220614\n"
     ]
    }
   ],
   "source": [
    "print('Percentage NaNs\"s avg in PRAEGENDE_JUGENDJAHRE:',lowNaN.PRAEGENDE_JUGENDJAHRE.isnull().mean()*100)"
   ]
  },
  {
   "cell_type": "code",
   "execution_count": 43,
   "metadata": {},
   "outputs": [],
   "source": [
    "# Create engineered features\n",
    "\n",
    "decade = {     1: 1, \n",
    "               2: 1, \n",
    "               3: 2, \n",
    "               4: 2,\n",
    "               5: 3,\n",
    "               6: 3, \n",
    "               7: 3,\n",
    "               8: 4,\n",
    "               9: 4, \n",
    "               10: 5, \n",
    "               11: 5, \n",
    "               12: 5, \n",
    "               13: 5,\n",
    "               14: 6, \n",
    "               15: 6\n",
    "         }\n",
    "movement = {     1: 1,\n",
    "                 3: 1, \n",
    "                 5: 1, \n",
    "                 8: 1, \n",
    "                 10: 1, \n",
    "                 12: 1, \n",
    "                 14: 1,\n",
    "                 2: 2, \n",
    "                 4: 2,\n",
    "                 6: 2, \n",
    "                 7: 2, \n",
    "                 9: 2, \n",
    "                 11: 2, \n",
    "                 13: 2, \n",
    "                 15: 2\n",
    "                }\n",
    "lowNaN['DECADE'] = lowNaN['PRAEGENDE_JUGENDJAHRE'].map(decade)\n",
    "lowNaN['MOVEMENT'] = lowNaN['PRAEGENDE_JUGENDJAHRE'].map(movement)"
   ]
  },
  {
   "cell_type": "code",
   "execution_count": 44,
   "metadata": {},
   "outputs": [
    {
     "data": {
      "image/png": "[encoded data removed]",
      "text/plain": [
       "<matplotlib.figure.Figure at 0x7fb78c2f6f60>"
      ]
     },
     "metadata": {
      "needs_background": "light"
     },
     "output_type": "display_data"
    }
   ],
   "source": [
    "fig, ax1 = plt.subplots(figsize=(10,5))\n",
    "sns.countplot(data=lowNaN,\n",
    "              x='DECADE',\n",
    "              ax=ax1);"
   ]
  },
  {
   "cell_type": "code",
   "execution_count": 45,
   "metadata": {},
   "outputs": [
    {
     "data": {
      "image/png": "[encoded data removed]",
      "text/plain": [
       "<matplotlib.figure.Figure at 0x7fb78c2f62e8>"
      ]
     },
     "metadata": {
      "needs_background": "light"
     },
     "output_type": "display_data"
    }
   ],
   "source": [
    "fig, ax1 = plt.subplots(figsize=(10,5))\n",
    "sns.countplot(data=lowNaN,\n",
    "              x='MOVEMENT',\n",
    "              ax=ax1);"
   ]
  },
  {
   "cell_type": "code",
   "execution_count": 46,
   "metadata": {},
   "outputs": [],
   "source": [
    "# drop the coloumn\n",
    "lowNaN.drop(['PRAEGENDE_JUGENDJAHRE'], axis = 1, inplace=True)"
   ]
  },
  {
   "cell_type": "code",
   "execution_count": 47,
   "metadata": {},
   "outputs": [
    {
     "data": {
      "text/plain": [
       "663149    45\n",
       "280394    31\n",
       "312377    14\n",
       "133432    51\n",
       "490787    41\n",
       "558477    12\n",
       "716286    41\n",
       "688051    41\n",
       "469067    41\n",
       "737709    51\n",
       "117090    51\n",
       "453354    15\n",
       "302723    41\n",
       "249947    51\n",
       "774723    52\n",
       "204430    43\n",
       "750915    35\n",
       "298941    41\n",
       "695422    23\n",
       "317546    55\n",
       "Name: CAMEO_INTL_2015, dtype: object"
      ]
     },
     "execution_count": 47,
     "metadata": {},
     "output_type": "execute_result"
    }
   ],
   "source": [
    "# Investigate \"CAMEO_INTL_2015\" and engineer two new variables.\n",
    "lowNaN.CAMEO_INTL_2015.sample(20)\n"
   ]
  },
  {
   "cell_type": "code",
   "execution_count": 48,
   "metadata": {},
   "outputs": [
    {
     "data": {
      "image/png": "[encoded data removed]",
      "text/plain": [
       "<matplotlib.figure.Figure at 0x7fb78c3363c8>"
      ]
     },
     "metadata": {
      "needs_background": "light"
     },
     "output_type": "display_data"
    }
   ],
   "source": [
    "fig, ax1 = plt.subplots(figsize=(10,5))\n",
    "sns.countplot(data=lowNaN,\n",
    "              x='CAMEO_INTL_2015',\n",
    "              ax=ax1);"
   ]
  },
  {
   "cell_type": "code",
   "execution_count": 49,
   "metadata": {},
   "outputs": [
    {
     "data": {
      "text/plain": [
       "51    132086\n",
       "41     90430\n",
       "24     88559\n",
       "14     60994\n",
       "43     55429\n",
       "54     44745\n",
       "25     38587\n",
       "22     31990\n",
       "45     25610\n",
       "13     25477\n",
       "23     24111\n",
       "55     23440\n",
       "52     20258\n",
       "34     18111\n",
       "31     17721\n",
       "15     16645\n",
       "44     14502\n",
       "12     12795\n",
       "35     10139\n",
       "32     10087\n",
       "33      9571\n",
       "Name: CAMEO_INTL_2015, dtype: int64"
      ]
     },
     "execution_count": 49,
     "metadata": {},
     "output_type": "execute_result"
    }
   ],
   "source": [
    "lowNaN.CAMEO_INTL_2015.value_counts().sort_values(ascending=False)"
   ]
  },
  {
   "cell_type": "code",
   "execution_count": 50,
   "metadata": {},
   "outputs": [
    {
     "name": "stdout",
     "output_type": "stream",
     "text": [
      "Percentage NaNs\"s avg in CAMEO_INTL_2015: 0.446083410886\n"
     ]
    }
   ],
   "source": [
    "print('Percentage NaNs\"s avg in CAMEO_INTL_2015:',lowNaN.CAMEO_INTL_2015.isnull().mean()*100)"
   ]
  },
  {
   "cell_type": "code",
   "execution_count": 51,
   "metadata": {},
   "outputs": [],
   "source": [
    "def break_codes(feature, digit):\n",
    "    if not pd.isna(feature):\n",
    "        if digit == 'wealth':\n",
    "            return int(float(str(feature)[0]))\n",
    "        elif digit == 'life_stage':\n",
    "            return int(float(str(feature)[1]))\n",
    "    return feature\n",
    " \n",
    "lowNaN['WEALTH'] = lowNaN['CAMEO_INTL_2015'].apply(break_codes, digit='wealth')\n",
    "lowNaN['LIFE_STAGE'] = lowNaN['CAMEO_INTL_2015'].apply(break_codes, digit='life_stage')"
   ]
  },
  {
   "cell_type": "code",
   "execution_count": 52,
   "metadata": {},
   "outputs": [
    {
     "data": {
      "image/png": "[encoded data removed]",
      "text/plain": [
       "<matplotlib.figure.Figure at 0x7fb78d5d2ba8>"
      ]
     },
     "metadata": {
      "needs_background": "light"
     },
     "output_type": "display_data"
    }
   ],
   "source": [
    "fig, ax1 = plt.subplots(figsize=(10,5))\n",
    "sns.countplot(data=lowNaN,\n",
    "              x='WEALTH',\n",
    "              ax=ax1);"
   ]
  },
  {
   "cell_type": "code",
   "execution_count": 53,
   "metadata": {},
   "outputs": [
    {
     "data": {
      "image/png": "[encoded data removed]",
      "text/plain": [
       "<matplotlib.figure.Figure at 0x7fb78d76dba8>"
      ]
     },
     "metadata": {
      "needs_background": "light"
     },
     "output_type": "display_data"
    }
   ],
   "source": [
    "fig, ax1 = plt.subplots(figsize=(10,5))\n",
    "sns.countplot(data=lowNaN,\n",
    "              x='LIFE_STAGE',\n",
    "              ax=ax1);"
   ]
  },
  {
   "cell_type": "code",
   "execution_count": 54,
   "metadata": {},
   "outputs": [],
   "source": [
    "# drop\n",
    "lowNaN.drop(['CAMEO_INTL_2015'], axis = 1, inplace=True)"
   ]
  },
  {
   "cell_type": "markdown",
   "metadata": {},
   "source": [
    "#### Discussion 1.2.2: Engineer Mixed-Type Features\n",
    "\n",
    "(Double-click this cell and replace this text with your own text, reporting your findings and decisions regarding mixed-value features. Which ones did you keep, which did you drop, and what engineering steps did you perform?)\n",
    "\n",
    "PRAEGENDE_JUGENDJAHRE:<br>\n",
    "- It's split into 2 major subpoints which are DECADES from(40-90s) and MOVEMENT (between Avantgarde and Mainstream) <br>\n",
    "- dict is created to map decades <br>\n",
    "- 2 new coloumns are added (DECADES and MOVEMENT) <br>\n",
    "- Original coloumn is dropped <br>\n",
    "- plots are created after nearly each step for a better visualization <br>\n",
    "\n",
    "\n",
    "CAMEO_INTL_2015:<br>\n",
    "- It gives information about 2 social living (one for WEALTH and the second for the LIFE_STAGE) <br>\n",
    "- Use the breakcode function to break up life stage and function <br>\n",
    "- Do visualisation <br>\n",
    "- Drop original column <br>\n"
   ]
  },
  {
   "cell_type": "markdown",
   "metadata": {},
   "source": [
    "#### Step 1.2.3: Complete Feature Selection\n",
    "\n",
    "In order to finish this step up, you need to make sure that your data frame now only has the columns that you want to keep. To summarize, the dataframe should consist of the following:\n",
    "- All numeric, interval, and ordinal type columns from the original dataset.\n",
    "- Binary categorical features (all numerically-encoded).\n",
    "- Engineered features from other multi-level categorical features and mixed features.\n",
    "\n",
    "Make sure that for any new columns that you have engineered, that you've excluded the original columns from the final dataset. Otherwise, their values will interfere with the analysis later on the project. For example, you should not keep \"PRAEGENDE_JUGENDJAHRE\", since its values won't be useful for the algorithm: only the values derived from it in the engineered features you created should be retained. As a reminder, your data should only be from **the subset with few or no missing values**."
   ]
  },
  {
   "cell_type": "code",
   "execution_count": 55,
   "metadata": {},
   "outputs": [],
   "source": [
    "# If there are other re-engineering tasks you need to perform, make sure you\n",
    "# take care of them here. (Dealing with missing data will come in step 2.1.)\n",
    "\n",
    "# LP_LEBENSPHASE_FEIN: describes life stage and fine scale which are nearely covered by CAMEO_INTL_2015.\n",
    "# LP_LEBENSPHASE_GROB: could be considered as a repetitive information.\n",
    "# Can use interpolate to fill in blanks when data is removed. "
   ]
  },
  {
   "cell_type": "code",
   "execution_count": 56,
   "metadata": {},
   "outputs": [],
   "source": [
    "# Do whatever you need to in order to ensure that the dataframe only contains\n",
    "# the columns that should be passed to the algorithm functions.\n",
    "lowNaN.drop(['PLZ8_BAUMAX','LP_LEBENSPHASE_FEIN','LP_LEBENSPHASE_GROB'], axis = 1, inplace=True)\n"
   ]
  },
  {
   "cell_type": "code",
   "execution_count": 57,
   "metadata": {},
   "outputs": [
    {
     "data": {
      "text/plain": [
       "Index(['ALTERSKATEGORIE_GROB', 'ANREDE_KZ', 'FINANZ_MINIMALIST',\n",
       "       'FINANZ_SPARER', 'FINANZ_VORSORGER', 'FINANZ_ANLEGER',\n",
       "       'FINANZ_UNAUFFAELLIGER', 'FINANZ_HAUSBAUER', 'GREEN_AVANTGARDE',\n",
       "       'HEALTH_TYP', 'RETOURTYP_BK_S', 'SEMIO_SOZ', 'SEMIO_FAM', 'SEMIO_REL',\n",
       "       'SEMIO_MAT', 'SEMIO_VERT', 'SEMIO_LUST', 'SEMIO_ERL', 'SEMIO_KULT',\n",
       "       'SEMIO_RAT', 'SEMIO_KRIT', 'SEMIO_DOM', 'SEMIO_KAEM', 'SEMIO_PFLICHT',\n",
       "       'SEMIO_TRADV', 'SOHO_KZ', 'VERS_TYP', 'ANZ_PERSONEN', 'ANZ_TITEL',\n",
       "       'HH_EINKOMMEN_SCORE', 'W_KEIT_KIND_HH', 'WOHNDAUER_2008',\n",
       "       'ANZ_HAUSHALTE_AKTIV', 'ANZ_HH_TITEL', 'KONSUMNAEHE',\n",
       "       'MIN_GEBAEUDEJAHR', 'OST_WEST_KZ', 'WOHNLAGE', 'KBA05_ANTG1',\n",
       "       'KBA05_ANTG2', 'KBA05_ANTG3', 'KBA05_ANTG4', 'KBA05_GBZ', 'BALLRAUM',\n",
       "       'EWDICHTE', 'INNENSTADT', 'GEBAEUDETYP_RASTER', 'KKK', 'MOBI_REGIO',\n",
       "       'ONLINE_AFFINITAET', 'REGIOTYP', 'KBA13_ANZAHL_PKW', 'PLZ8_ANTG1',\n",
       "       'PLZ8_ANTG2', 'PLZ8_ANTG3', 'PLZ8_ANTG4', 'PLZ8_HHZ', 'PLZ8_GBZ',\n",
       "       'ARBEIT', 'ORTSGR_KLS9', 'RELAT_AB', 'DECADE', 'MOVEMENT', 'WEALTH',\n",
       "       'LIFE_STAGE'],\n",
       "      dtype='object')"
      ]
     },
     "execution_count": 57,
     "metadata": {},
     "output_type": "execute_result"
    }
   ],
   "source": [
    "lowNaN.columns"
   ]
  },
  {
   "cell_type": "code",
   "execution_count": 58,
   "metadata": {},
   "outputs": [],
   "source": [
    "for col in lowNaN.columns:\n",
    "        lowNaN[col] = lowNaN[col].interpolate(limit_direction='both')"
   ]
  },
  {
   "cell_type": "code",
   "execution_count": 59,
   "metadata": {},
   "outputs": [
    {
     "data": {
      "text/plain": [
       "(774743, 65)"
      ]
     },
     "execution_count": 59,
     "metadata": {},
     "output_type": "execute_result"
    }
   ],
   "source": [
    "lowNaN.shape"
   ]
  },
  {
   "cell_type": "markdown",
   "metadata": {},
   "source": [
    "### Step 1.3: Create a Cleaning Function\n",
    "\n",
    "Even though you've finished cleaning up the general population demographics data, it's important to look ahead to the future and realize that you'll need to perform the same cleaning steps on the customer demographics data. In this substep, complete the function below to execute the main feature selection, encoding, and re-engineering steps you performed above. Then, when it comes to looking at the customer data in Step 3, you can just run this function on that DataFrame to get the trimmed dataset in a single step."
   ]
  },
  {
   "cell_type": "code",
   "execution_count": 60,
   "metadata": {},
   "outputs": [],
   "source": [
    "missing_data_encode = dict(zip(feat_info.attribute, feat_info.missing_or_unknown))"
   ]
  },
  {
   "cell_type": "code",
   "execution_count": 61,
   "metadata": {},
   "outputs": [],
   "source": [
    "# Put in code here to execute all main cleaning steps:\n",
    "# convert missing value codes into NaNs, ...\n",
    "def missing_data_toNaN(df,debug=False):\n",
    "    for col in missing_data_encode.keys():\n",
    "        if debug:\n",
    "            print(col, 'nans before: ', df[col].isnull().sum())\n",
    "        df.loc[df[col].isin(missing_data_encode[col]), col] = np.nan\n",
    "        if debug:\n",
    "            print(col, 'nans after: ', df[col].isnull().sum(), '\\n')\n",
    "        print(df.shape)\n",
    "        return df\n",
    "    \n",
    "# remove selected columns and rows, ...\n",
    "def remove_col(df):\n",
    "    print('removing col')\n",
    "    df = df.drop(columns=missing_20, axis=1)\n",
    "    print(df.shape)\n",
    "    return  df\n",
    "    \n",
    "def remove_row(df):\n",
    "    threshhold = 0.1\n",
    "    df['R_percNaN'] = df.isnull().mean(axis=1)\n",
    "    \n",
    "    lowNaN = df.loc[df['R_percNaN'] < threshhold, :].\\\n",
    "                            drop(columns='R_percNaN', axis=1)\n",
    "    print(lowNaN.shape)\n",
    "    return lowNaN\n",
    "    \n",
    "    \n",
    "    # select, re-encode,\n",
    "def reencode_categorical(df,feature):\n",
    "    df[feature]=df[feature].replace({'W':1,'O':0})\n",
    "    df_categorical = feat_info[feat_info.type == 'categorical'].attribute\n",
    "    nunique = df[df_categorical].nunique()\n",
    "    encoded = nunique[nunique > 2]\n",
    "    df = df.drop(columns=encoded.index, axis=0)\n",
    "    print('encoded categorical')\n",
    "    print(df.shape)\n",
    "    return df\n",
    "\n",
    "def eng_mixture(df):\n",
    "    decade = {1: 1,  2: 1, 3: 2, 4: 2, 5: 3, 6: 3, 7: 3, 8: 4, 9: 4, 10: 5, 11: 5, 12: 5, 13: 5, 14: 6, 15: 6}\n",
    "    movement = {1: 1, 3: 1, 5: 1, 8: 1, 10: 1, 12: 1, 14: 1, 2: 2, 4: 2, 6: 2, 7: 2, 9: 2, 11: 2, 13: 2, 15: 2}\n",
    "    df['DECADE'] = df['PRAEGENDE_JUGENDJAHRE'].map(decade)\n",
    "    df['MOVEMENT'] = df['PRAEGENDE_JUGENDJAHRE'].map(movement)\n",
    "    df['WEALTH'] = df['CAMEO_INTL_2015'].apply(break_codes, digit='wealth')\n",
    "    df['LIFE_STAGE'] = df['CAMEO_INTL_2015'].apply(break_codes, digit='life_stage')\n",
    "    print('eng mixture')\n",
    "    print(df.shape)\n",
    "    return df\n",
    "\n",
    "    \n",
    "# Return the cleaned dataframe. Had to 'PLZ8_BAUMAX' as it also has to be dropped.\n",
    "def clean_data(df):\n",
    "    df_converted = missing_data_toNaN(df)\n",
    "    print('DONE Converted into NaN')\n",
    "    df_removedCol = remove_col(df_converted)\n",
    "    print('DONE dropping col')\n",
    "    df_removedRow = remove_row(df_removedCol)\n",
    "    print('DONE dropping row')\n",
    "    df_encoded =  reencode_categorical(df_removedRow,'OST_WEST_KZ')\n",
    "    print('DONE encoding OST_WEST_KZ')\n",
    "    df_eng = eng_mixture(df_encoded)\n",
    "    print('DONE engineering Mixture')\n",
    "    df_drop = df_eng.drop(['PLZ8_BAUMAX','LP_LEBENSPHASE_FEIN','LP_LEBENSPHASE_GROB'],axis=1)\n",
    "    print('DONE dropping Mix col')\n",
    "    for col in df_drop.columns:\n",
    "        df_drop[col] = df_drop[col].interpolate(limit_direction='both')\n",
    "    print('Test Checked')\n",
    "    return df_drop    \n",
    "    "
   ]
  },
  {
   "cell_type": "markdown",
   "metadata": {},
   "source": [
    "## Step 2: Feature Transformation\n",
    "\n",
    "### Step 2.1: Apply Feature Scaling\n",
    "\n",
    "Before we apply dimensionality reduction techniques to the data, we need to perform feature scaling so that the principal component vectors are not influenced by the natural differences in scale for features. Starting from this part of the project, you'll want to keep an eye on the [API reference page for sklearn](http://scikit-learn.org/stable/modules/classes.html) to help you navigate to all of the classes and functions that you'll need. In this substep, you'll need to check the following:\n",
    "\n",
    "- sklearn requires that data not have missing values in order for its estimators to work properly. So, before applying the scaler to your data, make sure that you've cleaned the DataFrame of the remaining missing values. This can be as simple as just removing all data points with missing data, or applying an [Imputer](https://scikit-learn.org/0.16/modules/generated/sklearn.preprocessing.Imputer.html) to replace all missing values. You might also try a more complicated procedure where you temporarily remove missing values in order to compute the scaling parameters before re-introducing those missing values and applying imputation. Think about how much missing data you have and what possible effects each approach might have on your analysis, and justify your decision in the discussion section below.\n",
    "- For the actual scaling function, a [StandardScaler](http://scikit-learn.org/stable/modules/generated/sklearn.preprocessing.StandardScaler.html) instance is suggested, scaling each feature to mean 0 and standard deviation 1.\n",
    "- For these classes, you can make use of the `.fit_transform()` method to both fit a procedure to the data as well as apply the transformation to the data at the same time. Don't forget to keep the fit sklearn objects handy, since you'll be applying them to the customer demographics data towards the end of the project."
   ]
  },
  {
   "cell_type": "code",
   "execution_count": 62,
   "metadata": {},
   "outputs": [],
   "source": [
    "# If you've not yet cleaned the dataset of all NaN values, then investigate and\n",
    "# do that now.\n",
    "\n",
    "# check cleaned frame\n",
    "##lowNaN.sample(5)\n",
    "##lowNaN.info()\n",
    "\n",
    "# Looks like OST_WEST_KZ will cause problems\n",
    "# Re-encode categorical variable above\n",
    "##lowNaN['OST_WEST_KZ'] = lowNaN['OST_WEST_KZ'].replace({'O': 0, 'W': 1})\n"
   ]
  },
  {
   "cell_type": "code",
   "execution_count": 63,
   "metadata": {},
   "outputs": [],
   "source": [
    "# Apply feature scaling to the general population demographics data.\n",
    "\n",
    "from sklearn.preprocessing import StandardScaler\n",
    "\n",
    "stdScaler = StandardScaler()\n",
    "df_scale = pd.DataFrame(stdScaler.fit_transform(lowNaN))\n",
    "df_scale.columns = lowNaN.columns\n",
    "\n"
   ]
  },
  {
   "cell_type": "code",
   "execution_count": 64,
   "metadata": {},
   "outputs": [
    {
     "data": {
      "text/html": [
       "<div>\n",
       "<style scoped>\n",
       "    .dataframe tbody tr th:only-of-type {\n",
       "        vertical-align: middle;\n",
       "    }\n",
       "\n",
       "    .dataframe tbody tr th {\n",
       "        vertical-align: top;\n",
       "    }\n",
       "\n",
       "    .dataframe thead th {\n",
       "        text-align: right;\n",
       "    }\n",
       "</style>\n",
       "<table border=\"1\" class=\"dataframe\">\n",
       "  <thead>\n",
       "    <tr style=\"text-align: right;\">\n",
       "      <th></th>\n",
       "      <th>ALTERSKATEGORIE_GROB</th>\n",
       "      <th>ANREDE_KZ</th>\n",
       "      <th>FINANZ_MINIMALIST</th>\n",
       "      <th>FINANZ_SPARER</th>\n",
       "      <th>FINANZ_VORSORGER</th>\n",
       "      <th>FINANZ_ANLEGER</th>\n",
       "      <th>FINANZ_UNAUFFAELLIGER</th>\n",
       "      <th>FINANZ_HAUSBAUER</th>\n",
       "      <th>GREEN_AVANTGARDE</th>\n",
       "      <th>HEALTH_TYP</th>\n",
       "      <th>...</th>\n",
       "      <th>PLZ8_ANTG4</th>\n",
       "      <th>PLZ8_HHZ</th>\n",
       "      <th>PLZ8_GBZ</th>\n",
       "      <th>ARBEIT</th>\n",
       "      <th>ORTSGR_KLS9</th>\n",
       "      <th>RELAT_AB</th>\n",
       "      <th>DECADE</th>\n",
       "      <th>MOVEMENT</th>\n",
       "      <th>WEALTH</th>\n",
       "      <th>LIFE_STAGE</th>\n",
       "    </tr>\n",
       "  </thead>\n",
       "  <tbody>\n",
       "    <tr>\n",
       "      <th>142125</th>\n",
       "      <td>0.19940</td>\n",
       "      <td>-1.043381</td>\n",
       "      <td>-0.036773</td>\n",
       "      <td>-0.478302</td>\n",
       "      <td>0.407498</td>\n",
       "      <td>-0.568811</td>\n",
       "      <td>-0.454293</td>\n",
       "      <td>-0.103075</td>\n",
       "      <td>-0.531136</td>\n",
       "      <td>1.065592</td>\n",
       "      <td>...</td>\n",
       "      <td>0.413629</td>\n",
       "      <td>-0.630769</td>\n",
       "      <td>-0.342501</td>\n",
       "      <td>-0.174198</td>\n",
       "      <td>-0.133255</td>\n",
       "      <td>0.678124</td>\n",
       "      <td>0.466376</td>\n",
       "      <td>-0.546181</td>\n",
       "      <td>0.495415</td>\n",
       "      <td>-1.258698</td>\n",
       "    </tr>\n",
       "    <tr>\n",
       "      <th>496276</th>\n",
       "      <td>-0.78203</td>\n",
       "      <td>0.958422</td>\n",
       "      <td>-1.488785</td>\n",
       "      <td>1.540017</td>\n",
       "      <td>-1.770775</td>\n",
       "      <td>0.110306</td>\n",
       "      <td>1.698711</td>\n",
       "      <td>0.612067</td>\n",
       "      <td>-0.531136</td>\n",
       "      <td>-0.273227</td>\n",
       "      <td>...</td>\n",
       "      <td>0.413629</td>\n",
       "      <td>-0.630769</td>\n",
       "      <td>-0.342501</td>\n",
       "      <td>0.830166</td>\n",
       "      <td>0.301657</td>\n",
       "      <td>1.414702</td>\n",
       "      <td>0.466376</td>\n",
       "      <td>-0.546181</td>\n",
       "      <td>1.178441</td>\n",
       "      <td>-1.258698</td>\n",
       "    </tr>\n",
       "    <tr>\n",
       "      <th>422145</th>\n",
       "      <td>-0.78203</td>\n",
       "      <td>-1.043381</td>\n",
       "      <td>0.689233</td>\n",
       "      <td>-0.478302</td>\n",
       "      <td>0.407498</td>\n",
       "      <td>-0.568811</td>\n",
       "      <td>0.263375</td>\n",
       "      <td>-0.103075</td>\n",
       "      <td>-0.531136</td>\n",
       "      <td>-0.273227</td>\n",
       "      <td>...</td>\n",
       "      <td>0.413629</td>\n",
       "      <td>1.428467</td>\n",
       "      <td>1.460804</td>\n",
       "      <td>0.830166</td>\n",
       "      <td>-1.003080</td>\n",
       "      <td>0.678124</td>\n",
       "      <td>0.466376</td>\n",
       "      <td>-0.546181</td>\n",
       "      <td>0.495415</td>\n",
       "      <td>-1.258698</td>\n",
       "    </tr>\n",
       "    <tr>\n",
       "      <th>565525</th>\n",
       "      <td>0.19940</td>\n",
       "      <td>-1.043381</td>\n",
       "      <td>1.415239</td>\n",
       "      <td>-0.478302</td>\n",
       "      <td>0.407498</td>\n",
       "      <td>-0.568811</td>\n",
       "      <td>-0.454293</td>\n",
       "      <td>-1.533358</td>\n",
       "      <td>1.882757</td>\n",
       "      <td>1.065592</td>\n",
       "      <td>...</td>\n",
       "      <td>-0.964435</td>\n",
       "      <td>0.398849</td>\n",
       "      <td>1.460804</td>\n",
       "      <td>-0.174198</td>\n",
       "      <td>-0.133255</td>\n",
       "      <td>-0.795034</td>\n",
       "      <td>0.466376</td>\n",
       "      <td>1.858969</td>\n",
       "      <td>-1.553666</td>\n",
       "      <td>1.432277</td>\n",
       "    </tr>\n",
       "    <tr>\n",
       "      <th>221543</th>\n",
       "      <td>0.19940</td>\n",
       "      <td>-1.043381</td>\n",
       "      <td>0.689233</td>\n",
       "      <td>-0.478302</td>\n",
       "      <td>0.407498</td>\n",
       "      <td>1.468541</td>\n",
       "      <td>0.263375</td>\n",
       "      <td>-0.103075</td>\n",
       "      <td>-0.531136</td>\n",
       "      <td>1.065592</td>\n",
       "      <td>...</td>\n",
       "      <td>0.413629</td>\n",
       "      <td>0.398849</td>\n",
       "      <td>0.559152</td>\n",
       "      <td>-2.182924</td>\n",
       "      <td>-1.003080</td>\n",
       "      <td>-1.531613</td>\n",
       "      <td>-0.225029</td>\n",
       "      <td>-0.546181</td>\n",
       "      <td>-1.553666</td>\n",
       "      <td>-0.585954</td>\n",
       "    </tr>\n",
       "  </tbody>\n",
       "</table>\n",
       "<p>5 rows × 65 columns</p>\n",
       "</div>"
      ],
      "text/plain": [
       "        ALTERSKATEGORIE_GROB  ANREDE_KZ  FINANZ_MINIMALIST  FINANZ_SPARER  \\\n",
       "142125               0.19940  -1.043381          -0.036773      -0.478302   \n",
       "496276              -0.78203   0.958422          -1.488785       1.540017   \n",
       "422145              -0.78203  -1.043381           0.689233      -0.478302   \n",
       "565525               0.19940  -1.043381           1.415239      -0.478302   \n",
       "221543               0.19940  -1.043381           0.689233      -0.478302   \n",
       "\n",
       "        FINANZ_VORSORGER  FINANZ_ANLEGER  FINANZ_UNAUFFAELLIGER  \\\n",
       "142125          0.407498       -0.568811              -0.454293   \n",
       "496276         -1.770775        0.110306               1.698711   \n",
       "422145          0.407498       -0.568811               0.263375   \n",
       "565525          0.407498       -0.568811              -0.454293   \n",
       "221543          0.407498        1.468541               0.263375   \n",
       "\n",
       "        FINANZ_HAUSBAUER  GREEN_AVANTGARDE  HEALTH_TYP     ...      \\\n",
       "142125         -0.103075         -0.531136    1.065592     ...       \n",
       "496276          0.612067         -0.531136   -0.273227     ...       \n",
       "422145         -0.103075         -0.531136   -0.273227     ...       \n",
       "565525         -1.533358          1.882757    1.065592     ...       \n",
       "221543         -0.103075         -0.531136    1.065592     ...       \n",
       "\n",
       "        PLZ8_ANTG4  PLZ8_HHZ  PLZ8_GBZ    ARBEIT  ORTSGR_KLS9  RELAT_AB  \\\n",
       "142125    0.413629 -0.630769 -0.342501 -0.174198    -0.133255  0.678124   \n",
       "496276    0.413629 -0.630769 -0.342501  0.830166     0.301657  1.414702   \n",
       "422145    0.413629  1.428467  1.460804  0.830166    -1.003080  0.678124   \n",
       "565525   -0.964435  0.398849  1.460804 -0.174198    -0.133255 -0.795034   \n",
       "221543    0.413629  0.398849  0.559152 -2.182924    -1.003080 -1.531613   \n",
       "\n",
       "          DECADE  MOVEMENT    WEALTH  LIFE_STAGE  \n",
       "142125  0.466376 -0.546181  0.495415   -1.258698  \n",
       "496276  0.466376 -0.546181  1.178441   -1.258698  \n",
       "422145  0.466376 -0.546181  0.495415   -1.258698  \n",
       "565525  0.466376  1.858969 -1.553666    1.432277  \n",
       "221543 -0.225029 -0.546181 -1.553666   -0.585954  \n",
       "\n",
       "[5 rows x 65 columns]"
      ]
     },
     "execution_count": 64,
     "metadata": {},
     "output_type": "execute_result"
    }
   ],
   "source": [
    "df_scale.sample(5)"
   ]
  },
  {
   "cell_type": "markdown",
   "metadata": {},
   "source": [
    "### Discussion 2.1: Apply Feature Scaling\n",
    "\n",
    "(Double-click this cell and replace this text with your own text, reporting your decisions regarding feature scaling.)\n",
    "\n",
    "Realised some additional columns had to be redcoded.\n",
    "Applied standard scaler to transform data with mean value 0 standard deviation of 1.\n",
    "\n",
    "Also edited code from above as i realised 'PLZ8_BAUMAX' had to also be dropped because it was multi level."
   ]
  },
  {
   "cell_type": "markdown",
   "metadata": {},
   "source": [
    "### Step 2.2: Perform Dimensionality Reduction\n",
    "\n",
    "On your scaled data, you are now ready to apply dimensionality reduction techniques.\n",
    "\n",
    "- Use sklearn's [PCA](http://scikit-learn.org/stable/modules/generated/sklearn.decomposition.PCA.html) class to apply principal component analysis on the data, thus finding the vectors of maximal variance in the data. To start, you should not set any parameters (so all components are computed) or set a number of components that is at least half the number of features (so there's enough features to see the general trend in variability).\n",
    "- Check out the ratio of variance explained by each principal component as well as the cumulative variance explained. Try plotting the cumulative or sequential values using matplotlib's [`plot()`](https://matplotlib.org/api/_as_gen/matplotlib.pyplot.plot.html) function. Based on what you find, select a value for the number of transformed features you'll retain for the clustering part of the project.\n",
    "- Once you've made a choice for the number of components to keep, make sure you re-fit a PCA instance to perform the decided-on transformation."
   ]
  },
  {
   "cell_type": "code",
   "execution_count": 65,
   "metadata": {},
   "outputs": [
    {
     "name": "stdout",
     "output_type": "stream",
     "text": [
      "65\n"
     ]
    }
   ],
   "source": [
    "# Apply PCA to the data.\n",
    "from sklearn.decomposition import PCA\n",
    "\n",
    "pca = PCA()\n",
    "df_pca = pca.fit_transform(df_scale)\n",
    "\n",
    "n_components = len(pca.explained_variance_ratio_)\n",
    "print(n_components)\n"
   ]
  },
  {
   "cell_type": "code",
   "execution_count": 66,
   "metadata": {},
   "outputs": [
    {
     "data": {
      "image/png": "[encoded data removed]",
      "text/plain": [
       "<matplotlib.figure.Figure at 0x7fb78c216cc0>"
      ]
     },
     "metadata": {
      "needs_background": "light"
     },
     "output_type": "display_data"
    }
   ],
   "source": [
    "# Investigate the variance accounted for by each principal component.\n",
    "\n",
    "values = pca.explained_variance_ratio_\n",
    "\n",
    "def plot_pca(pca,n_components,values):\n",
    "    index = np.arange(n_components)\n",
    "    plt.figure(figsize=(10,5))\n",
    "    ax = plt.subplot(111)\n",
    "    \n",
    "    cum_values = np.cumsum(values)\n",
    "    ax.bar(index, values)\n",
    "    ax.plot(index, cum_values)\n",
    " \n",
    "    ax.xaxis.set_tick_params(width=0)\n",
    "    ax.yaxis.set_tick_params(width=2, length=10)\n",
    " \n",
    "    ax.set_xlabel(\"(PCA)\")\n",
    "    ax.set_ylabel(\"Variance\")\n",
    "    plt.title('Explained Variance-PCA')\n",
    "    \n",
    "plot_pca(df_pca,65,values)"
   ]
  },
  {
   "cell_type": "code",
   "execution_count": 67,
   "metadata": {},
   "outputs": [],
   "source": [
    "# Feels like a drop off after 30\n",
    "pca_retain = PCA(n_components=30)\n",
    "df_retain = pca_retain.fit_transform(df_pca)\n"
   ]
  },
  {
   "cell_type": "markdown",
   "metadata": {},
   "source": [
    "### Discussion 2.2: Perform Dimensionality Reduction\n",
    "\n",
    "(Double-click this cell and replace this text with your own text, reporting your findings and decisions regarding dimensionality reduction. How many principal components / transformed features are you retaining for the next step of the analysis?)\n",
    "\n",
    "First 10 components looks to account for 60% of the variance <br>\n",
    "25-40 are where remaining variance is. <br>\n",
    "I have gone with 30 as component number. No point going higher as at some point it gets too close to 65.\n"
   ]
  },
  {
   "cell_type": "markdown",
   "metadata": {},
   "source": [
    "### Step 2.3: Interpret Principal Components\n",
    "\n",
    "Now that we have our transformed principal components, it's a nice idea to check out the weight of each variable on the first few components to see if they can be interpreted in some fashion.\n",
    "\n",
    "As a reminder, each principal component is a unit vector that points in the direction of highest variance (after accounting for the variance captured by earlier principal components). The further a weight is from zero, the more the principal component is in the direction of the corresponding feature. If two features have large weights of the same sign (both positive or both negative), then increases in one tend expect to be associated with increases in the other. To contrast, features with different signs can be expected to show a negative correlation: increases in one variable should result in a decrease in the other.\n",
    "\n",
    "- To investigate the features, you should map each weight to their corresponding feature name, then sort the features according to weight. The most interesting features for each principal component, then, will be those at the beginning and end of the sorted list. Use the data dictionary document to help you understand these most prominent features, their relationships, and what a positive or negative value on the principal component might indicate.\n",
    "- You should investigate and interpret feature associations from the first three principal components in this substep. To help facilitate this, you should write a function that you can call at any time to print the sorted list of feature weights, for the *i*-th principal component. This might come in handy in the next step of the project, when you interpret the tendencies of the discovered clusters."
   ]
  },
  {
   "cell_type": "code",
   "execution_count": 68,
   "metadata": {},
   "outputs": [
    {
     "name": "stdout",
     "output_type": "stream",
     "text": [
      "[('ANREDE_KZ', 0.99999999999999911),\n",
      " ('KBA05_ANTG3', 1.6642952495570883e-08),\n",
      " ('BALLRAUM', 9.781288819315848e-09),\n",
      " ('OST_WEST_KZ', 9.1177941686118408e-09),\n",
      " ('INNENSTADT', 8.0978516940105835e-09),\n",
      " ('MOBI_REGIO', 4.0131549242249916e-09),\n",
      " ('GEBAEUDETYP_RASTER', 4.0080800346022869e-09),\n",
      " ('MIN_GEBAEUDEJAHR', 3.5557717220518693e-09),\n",
      " ('KBA05_ANTG1', 1.9490055675140712e-09),\n",
      " ('KKK', 1.7471321262314571e-09),\n",
      " ('KBA05_ANTG2', 1.4925914515724649e-09),\n",
      " ('REGIOTYP', 1.4324891428604937e-09),\n",
      " ('SOHO_KZ', 1.0055981314480664e-09),\n",
      " ('PLZ8_ANTG4', 7.6364992782825234e-10),\n",
      " ('ARBEIT', 5.0612656008617647e-10),\n",
      " ('SEMIO_DOM', 4.8723244217618656e-10),\n",
      " ('VERS_TYP', 3.3179349084108912e-10),\n",
      " ('SEMIO_KAEM', 3.0829466908284576e-10),\n",
      " ('SEMIO_ERL', 2.6990710279944834e-10),\n",
      " ('ANZ_PERSONEN', 2.2454684761814609e-10),\n",
      " ('PLZ8_ANTG3', 1.6967205941075659e-10),\n",
      " ('SEMIO_SOZ', 1.6630528890482913e-10),\n",
      " ('SEMIO_MAT', 1.3194152514390263e-10),\n",
      " ('SEMIO_FAM', 1.0710499109293797e-10),\n",
      " ('GREEN_AVANTGARDE', 7.8404651729895938e-11),\n",
      " ('SEMIO_VERT', 6.8467559853791999e-11),\n",
      " ('RELAT_AB', 4.6658793613180114e-11),\n",
      " ('MOVEMENT', 4.2470528838028386e-11),\n",
      " ('FINANZ_HAUSBAUER', 4.1806205513492045e-11),\n",
      " ('PLZ8_HHZ', 3.0562839676858521e-11),\n",
      " ('SEMIO_PFLICHT', 3.0444509089185094e-11),\n",
      " ('PLZ8_ANTG2', 2.1720956039309112e-11),\n",
      " ('FINANZ_VORSORGER', 7.6886025757866294e-12),\n",
      " ('ORTSGR_KLS9', 5.7552454458898114e-12),\n",
      " ('WEALTH', 4.2147916931407706e-12),\n",
      " ('DECADE', 6.3879907241103549e-13),\n",
      " ('LIFE_STAGE', 5.6042140339217554e-16),\n",
      " ('FINANZ_SPARER', -2.3094460371853032e-13),\n",
      " ('ALTERSKATEGORIE_GROB', -2.6364466165773592e-12),\n",
      " ('FINANZ_MINIMALIST', -3.0361824165936468e-12),\n",
      " ('FINANZ_ANLEGER', -3.4636201919806611e-12),\n",
      " ('FINANZ_UNAUFFAELLIGER', -4.7768998572707115e-12),\n",
      " ('SEMIO_LUST', -9.4748631657139793e-12),\n",
      " ('PLZ8_GBZ', -2.2482834046704967e-11),\n",
      " ('RETOURTYP_BK_S', -2.6175105754042083e-11),\n",
      " ('SEMIO_REL', -5.7042995509178e-11),\n",
      " ('HEALTH_TYP', -1.0780912839814966e-10),\n",
      " ('SEMIO_KULT', -2.9844712511595465e-10),\n",
      " ('PLZ8_ANTG1', -4.2462939169446871e-10),\n",
      " ('ANZ_TITEL', -4.397293431640771e-10),\n",
      " ('KBA13_ANZAHL_PKW', -4.476025679025828e-10),\n",
      " ('WOHNLAGE', -5.1315516250083206e-10),\n",
      " ('ANZ_HH_TITEL', -5.7881306033372206e-10),\n",
      " ('SEMIO_KRIT', -6.2918303662951465e-10),\n",
      " ('ANZ_HAUSHALTE_AKTIV', -7.5339091874103885e-10),\n",
      " ('SEMIO_TRADV', -7.8932263863985926e-10),\n",
      " ('SEMIO_RAT', -8.5472782319911348e-10),\n",
      " ('ONLINE_AFFINITAET', -2.2916013803282097e-09),\n",
      " ('HH_EINKOMMEN_SCORE', -3.739730179132483e-09),\n",
      " ('W_KEIT_KIND_HH', -4.4958532171790926e-09),\n",
      " ('KONSUMNAEHE', -8.0392356027729086e-09),\n",
      " ('KBA05_ANTG4', -8.0994410419037144e-09),\n",
      " ('KBA05_GBZ', -8.5835645720911142e-09),\n",
      " ('EWDICHTE', -1.2776734242335382e-08),\n",
      " ('WOHNDAUER_2008', -1.3607931320647639e-08)]\n"
     ]
    }
   ],
   "source": [
    "# Map weights for the first principal component to corresponding feature names\n",
    "# and then print the linked values, sorted by weight.\n",
    "# HINT: Try defining a function here or in a new cell that you can reuse in the\n",
    "# other cells.\n",
    "\n",
    "import operator\n",
    "import pprint\n",
    "\n",
    "def pca_weights(pca, i):\n",
    "    weight_map = {}\n",
    "    for counter, feature in enumerate(df_scale.columns):\n",
    "        weight_map[feature] = pca.components_[i][counter]\n",
    "    \n",
    "    sorted_weights = sorted(weight_map.items(), key=operator.itemgetter(1), reverse=True)\n",
    "    \n",
    "    return sorted_weights\n",
    "\n",
    "weights = pca_weights(pca_retain,1)\n",
    "pprint.pprint(weights)\n"
   ]
  },
  {
   "cell_type": "code",
   "execution_count": 69,
   "metadata": {},
   "outputs": [
    {
     "data": {
      "text/plain": [
       "MOBI_REGIO              -0.242167\n",
       "PLZ8_ANTG1              -0.226872\n",
       "KBA05_ANTG1             -0.225012\n",
       "KBA05_GBZ               -0.217794\n",
       "FINANZ_MINIMALIST       -0.215611\n",
       "KONSUMNAEHE             -0.169970\n",
       "PLZ8_GBZ                -0.167817\n",
       "INNENSTADT              -0.167581\n",
       "BALLRAUM                -0.130102\n",
       "LIFE_STAGE              -0.123372\n",
       "GEBAEUDETYP_RASTER      -0.117422\n",
       "ALTERSKATEGORIE_GROB    -0.111735\n",
       "FINANZ_VORSORGER        -0.106672\n",
       "GREEN_AVANTGARDE        -0.105925\n",
       "MOVEMENT                -0.103649\n",
       "WOHNLAGE                -0.090153\n",
       "ANZ_PERSONEN            -0.079365\n",
       "KBA13_ANZAHL_PKW        -0.078660\n",
       "SEMIO_ERL               -0.070423\n",
       "SEMIO_LUST              -0.067682\n",
       "MIN_GEBAEUDEJAHR        -0.061444\n",
       "WOHNDAUER_2008          -0.058928\n",
       "OST_WEST_KZ             -0.053054\n",
       "ONLINE_AFFINITAET       -0.047867\n",
       "SEMIO_VERT              -0.040443\n",
       "RETOURTYP_BK_S          -0.013775\n",
       "ANZ_TITEL               -0.003883\n",
       "SOHO_KZ                 -0.001983\n",
       "SEMIO_KRIT               0.006482\n",
       "ANREDE_KZ                0.008705\n",
       "                           ...   \n",
       "W_KEIT_KIND_HH           0.038581\n",
       "SEMIO_SOZ                0.040650\n",
       "KKK                      0.041413\n",
       "SEMIO_KAEM               0.041975\n",
       "PLZ8_HHZ                 0.043019\n",
       "FINANZ_ANLEGER           0.061024\n",
       "SEMIO_KULT               0.066489\n",
       "FINANZ_UNAUFFAELLIGER    0.068277\n",
       "REGIOTYP                 0.071072\n",
       "SEMIO_FAM                0.072957\n",
       "SEMIO_MAT                0.074139\n",
       "SEMIO_TRADV              0.081759\n",
       "SEMIO_RAT                0.088853\n",
       "DECADE                   0.093583\n",
       "SEMIO_REL                0.104846\n",
       "SEMIO_PFLICHT            0.107878\n",
       "KBA05_ANTG3              0.135605\n",
       "ANZ_HAUSHALTE_AKTIV      0.136038\n",
       "RELAT_AB                 0.137947\n",
       "FINANZ_SPARER            0.138585\n",
       "ARBEIT                   0.146376\n",
       "KBA05_ANTG4              0.153352\n",
       "PLZ8_ANTG2               0.156258\n",
       "FINANZ_HAUSBAUER         0.164091\n",
       "EWDICHTE                 0.200266\n",
       "HH_EINKOMMEN_SCORE       0.202349\n",
       "ORTSGR_KLS9              0.202499\n",
       "WEALTH                   0.206803\n",
       "PLZ8_ANTG4               0.221042\n",
       "PLZ8_ANTG3               0.228572\n",
       "Name: 0, Length: 65, dtype: float64"
      ]
     },
     "execution_count": 69,
     "metadata": {},
     "output_type": "execute_result"
    }
   ],
   "source": [
    "feature_select = pd.DataFrame(pca.components_,columns=df_scale.columns).T\n",
    "feature_select[0].sort_values()"
   ]
  },
  {
   "cell_type": "code",
   "execution_count": 70,
   "metadata": {},
   "outputs": [
    {
     "data": {
      "text/plain": [
       "SEMIO_REL               -0.258143\n",
       "DECADE                  -0.251698\n",
       "FINANZ_SPARER           -0.239735\n",
       "SEMIO_TRADV             -0.233207\n",
       "SEMIO_PFLICHT           -0.231935\n",
       "FINANZ_UNAUFFAELLIGER   -0.228271\n",
       "SEMIO_KULT              -0.221498\n",
       "FINANZ_ANLEGER          -0.208097\n",
       "SEMIO_FAM               -0.185111\n",
       "SEMIO_RAT               -0.173576\n",
       "SEMIO_MAT               -0.164366\n",
       "ONLINE_AFFINITAET       -0.162003\n",
       "SEMIO_SOZ               -0.103488\n",
       "PLZ8_ANTG1              -0.082373\n",
       "KBA05_GBZ               -0.080305\n",
       "MOBI_REGIO              -0.079942\n",
       "KBA05_ANTG1             -0.070070\n",
       "INNENSTADT              -0.069941\n",
       "SEMIO_VERT              -0.067400\n",
       "PLZ8_GBZ                -0.065149\n",
       "KONSUMNAEHE             -0.063806\n",
       "ANZ_PERSONEN            -0.058377\n",
       "HEALTH_TYP              -0.058355\n",
       "BALLRAUM                -0.057722\n",
       "WOHNLAGE                -0.056164\n",
       "MIN_GEBAEUDEJAHR        -0.046640\n",
       "GEBAEUDETYP_RASTER      -0.038750\n",
       "KBA13_ANZAHL_PKW        -0.032643\n",
       "OST_WEST_KZ             -0.022375\n",
       "KBA05_ANTG2             -0.009442\n",
       "                           ...   \n",
       "ANZ_TITEL                0.007430\n",
       "PLZ8_HHZ                 0.012606\n",
       "REGIOTYP                 0.017922\n",
       "ANZ_HH_TITEL             0.029655\n",
       "VERS_TYP                 0.032224\n",
       "KBA05_ANTG3              0.038296\n",
       "HH_EINKOMMEN_SCORE       0.045357\n",
       "ANZ_HAUSHALTE_AKTIV      0.056773\n",
       "PLZ8_ANTG2               0.059843\n",
       "RELAT_AB                 0.060908\n",
       "WOHNDAUER_2008           0.061372\n",
       "ARBEIT                   0.063026\n",
       "KBA05_ANTG4              0.063182\n",
       "WEALTH                   0.065204\n",
       "SEMIO_DOM                0.069921\n",
       "FINANZ_MINIMALIST        0.074672\n",
       "PLZ8_ANTG4               0.081576\n",
       "PLZ8_ANTG3               0.085928\n",
       "ORTSGR_KLS9              0.086304\n",
       "EWDICHTE                 0.087373\n",
       "ANREDE_KZ                0.089271\n",
       "FINANZ_HAUSBAUER         0.109585\n",
       "SEMIO_KAEM               0.110606\n",
       "W_KEIT_KIND_HH           0.115033\n",
       "SEMIO_KRIT               0.115816\n",
       "RETOURTYP_BK_S           0.164618\n",
       "SEMIO_LUST               0.184672\n",
       "SEMIO_ERL                0.231962\n",
       "FINANZ_VORSORGER         0.235646\n",
       "ALTERSKATEGORIE_GROB     0.262649\n",
       "Name: 1, Length: 65, dtype: float64"
      ]
     },
     "execution_count": 70,
     "metadata": {},
     "output_type": "execute_result"
    }
   ],
   "source": [
    "# Map weights for the second principal component to corresponding feature names\n",
    "# and then print the linked values, sorted by weight.\n",
    "feature_select = pd.DataFrame(pca.components_,columns=df_scale.columns).T\n",
    "feature_select[1].sort_values()\n",
    "\n"
   ]
  },
  {
   "cell_type": "code",
   "execution_count": 71,
   "metadata": {},
   "outputs": [
    {
     "data": {
      "text/plain": [
       "ANREDE_KZ               -0.369118\n",
       "SEMIO_KAEM              -0.337296\n",
       "SEMIO_DOM               -0.313063\n",
       "SEMIO_KRIT              -0.274307\n",
       "SEMIO_RAT               -0.217110\n",
       "FINANZ_ANLEGER          -0.189520\n",
       "SEMIO_ERL               -0.175559\n",
       "DECADE                  -0.106251\n",
       "FINANZ_SPARER           -0.105605\n",
       "FINANZ_UNAUFFAELLIGER   -0.097872\n",
       "SEMIO_PFLICHT           -0.078822\n",
       "SEMIO_TRADV             -0.078660\n",
       "ONLINE_AFFINITAET       -0.052971\n",
       "FINANZ_HAUSBAUER        -0.045980\n",
       "PLZ8_ANTG1              -0.044592\n",
       "INNENSTADT              -0.043324\n",
       "KONSUMNAEHE             -0.037424\n",
       "PLZ8_GBZ                -0.037070\n",
       "BALLRAUM                -0.035600\n",
       "GEBAEUDETYP_RASTER      -0.029351\n",
       "MOBI_REGIO              -0.027554\n",
       "KBA05_GBZ               -0.025087\n",
       "WOHNLAGE                -0.024413\n",
       "HH_EINKOMMEN_SCORE      -0.022663\n",
       "KBA13_ANZAHL_PKW        -0.022458\n",
       "KBA05_ANTG1             -0.021071\n",
       "HEALTH_TYP              -0.019810\n",
       "MIN_GEBAEUDEJAHR        -0.017240\n",
       "KKK                     -0.015316\n",
       "OST_WEST_KZ             -0.013598\n",
       "                           ...   \n",
       "PLZ8_HHZ                 0.004836\n",
       "KBA05_ANTG3              0.006918\n",
       "ANZ_TITEL                0.009978\n",
       "ANZ_HH_TITEL             0.012992\n",
       "VERS_TYP                 0.014750\n",
       "ANZ_HAUSHALTE_AKTIV      0.023872\n",
       "WEALTH                   0.024840\n",
       "KBA05_ANTG4              0.025807\n",
       "PLZ8_ANTG2               0.030124\n",
       "RELAT_AB                 0.031687\n",
       "WOHNDAUER_2008           0.032993\n",
       "ARBEIT                   0.034446\n",
       "PLZ8_ANTG3               0.044476\n",
       "PLZ8_ANTG4               0.044583\n",
       "EWDICHTE                 0.047310\n",
       "ORTSGR_KLS9              0.048011\n",
       "MOVEMENT                 0.049287\n",
       "GREEN_AVANTGARDE         0.051511\n",
       "SEMIO_MAT                0.054680\n",
       "SEMIO_LUST               0.064264\n",
       "SEMIO_REL                0.070394\n",
       "ALTERSKATEGORIE_GROB     0.078507\n",
       "W_KEIT_KIND_HH           0.088179\n",
       "FINANZ_VORSORGER         0.100324\n",
       "RETOURTYP_BK_S           0.108977\n",
       "FINANZ_MINIMALIST        0.157661\n",
       "SEMIO_KULT               0.234216\n",
       "SEMIO_FAM                0.250083\n",
       "SEMIO_SOZ                0.263427\n",
       "SEMIO_VERT               0.346607\n",
       "Name: 2, Length: 65, dtype: float64"
      ]
     },
     "execution_count": 71,
     "metadata": {},
     "output_type": "execute_result"
    }
   ],
   "source": [
    "# Map weights for the third principal component to corresponding feature names\n",
    "# and then print the linked values, sorted by weight.\n",
    "feature_select = pd.DataFrame(pca.components_,columns=df_scale.columns).T\n",
    "feature_select[2].sort_values()\n",
    "\n"
   ]
  },
  {
   "cell_type": "markdown",
   "metadata": {},
   "source": [
    "### Discussion 2.3: Interpret Principal Components\n",
    "\n",
    "(Double-click this cell and replace this text with your own text, reporting your observations from detailed investigation of the first few principal components generated. Can we interpret positive and negative values from them in a meaningful way?)\n",
    "\n",
    "First Principal componenent explains most of the variance <br>\n",
    "- Positively correlated are: PLZ8_ANTG3, PLZ8_ANTG4, Wealth\n",
    "- Negatively correlated are: MOBI_REGIO, \n",
    "- Looks like a certin building type and wealth are main correlating factor. and a region as negative.\n",
    "\n",
    "Second Principal componenent <br>\n",
    "- Positively correlated are: ALTERSKATEGORIE_GROB, FINANZ_VORSORGER, SEMIO_ERL \n",
    "- Negatively correlated are: SEMIO_REL, DECADE   \n",
    "- Looks like retirement status and age are postively correlated while religeous status is negatively correlated.\n",
    "\n",
    "Third Principal componenent <br>\n",
    "- Positively correlated are: SEMIO_VERT, SEMIO_SOZ, SEMIO_FAM\n",
    "- Negatively correlated are: ANREDE_KZ, SEMIO_KAEM\n",
    "- This component has some big values in positive and negative direction. Gender is negatively correlated and and ambition positvely correlated \n",
    "\n",
    "\n",
    "\n"
   ]
  },
  {
   "cell_type": "code",
   "execution_count": 72,
   "metadata": {},
   "outputs": [],
   "source": [
    "# Data dictionary"
   ]
  },
  {
   "cell_type": "code",
   "execution_count": 73,
   "metadata": {},
   "outputs": [],
   "source": [
    "import markdown\n",
    "\n",
    "f = open('Data_Dictionary.md', 'r')\n",
    "htmlmarkdown=markdown.markdown( f.read() )"
   ]
  },
  {
   "cell_type": "code",
   "execution_count": 74,
   "metadata": {},
   "outputs": [
    {
     "data": {
      "text/plain": [
       "'<h1>Data Dictionary for Identify Customer Segments Data</h1>\\n<h2>Introduction</h2>\\n<p>The data for this project consist of two files:</p>\\n<ul>\\n<li>Udacity_AZDIAS_Subset.csv: demographics data for the general population of\\n      Germany; 891211 persons (rows) x 85 features (columns)</li>\\n<li>Udacity_CUSTOMERS_Subset.csv: demographics data for customers of a mail-order\\n      company; 191652 persons (rows) x 85 features (columns)</li>\\n</ul>\\n<p>The columns in the general demographics file and customers data file are the\\nsame. This file documents the features that appear in the data files, sorted in\\norder of appearance. Sections of this file is based on the level of measurement\\nof each feature. The file \"AZDIAS_Feature_Summary.csv\" contains a summary of\\nfeature attributes, including information level, data type, and codes for\\nmissing or unknown values.</p>\\n<h3>Table of Contents</h3>\\n<ol>\\n<li>Person-level features</li>\\n<li>Household-level features</li>\\n<li>Building-level features</li>\\n<li>RR4 micro-cell features</li>\\n<li>RR3 micro-cell features</li>\\n<li>Postcode-level features</li>\\n<li>RR1 neighborhood features</li>\\n<li>PLZ8 macro-cell features</li>\\n<li>Community-level features</li>\\n</ol>\\n<hr />\\n<h2>1. Person-level features</h2>\\n<h3>1.1. AGER_TYP</h3>\\n<p>Best-ager typology\\n- -1: unknown\\n-  0: no classification possible\\n-  1: passive elderly\\n-  2: cultural elderly\\n-  3: experience-driven elderly</p>\\n<h3>1.2. ALTERSKATEGORIE_GROB</h3>\\n<p>Estimated age based on given name analysis\\n- -1: unknown (missing)\\n-  0: unknown (cannot be determined)\\n-  1: &lt; 30 years old\\n-  2: 30 - 45 years old\\n-  3: 46 - 60 years old\\n-  4: &gt; 60 years old\\n-  9: uniformly distributed</p>\\n<h3>1.3. ANREDE_KZ</h3>\\n<p>Gender\\n- -1: unknown (missing)\\n-  0: unknown (cannot be determined)\\n-  1: male\\n-  2: female</p>\\n<h3>1.4. CJT_GESAMTTYP</h3>\\n<p>Customer-Journey-Typology: preferred information and buying channels for\\nconsumer\\n- 0: unknown\\n- 1: Advertising- and Consumptionminimalist\\n- 2: Advertising- and Consumptiontraditionalist\\n- 3: advertisinginterested Store-shopper\\n- 4: advertisinginterested Online-shopper\\n- 5: Advertising- and Cross-Channel-Enthusiast\\n- 6: Advertising-Enthusiast with restricted Cross-Channel-Behaviour</p>\\n<h3>1.5. FINANZ_MINIMALIST, FINANZ_SPARER, FINANZ_VORSORGER, FINANZ_ANLEGER,</h3>\\n<h3>FINANZ_UNAUFFAELLIGER, FINANZ_HAUSBAUER</h3>\\n<p>Financial typology, for each dimension:\\n- -1: unknown\\n-  1: very high\\n-  2: high\\n-  3: average\\n-  4: low\\n-  5: very low</p>\\n<p>Dimension translations:\\n- MINIMALIST: low financial interest\\n- SPARER: money-saver\\n- VORSORGER: be prepared\\n- ANLEGER: investor\\n- UNAUFFAELLIGER: inconspicuous\\n- HAUSBAUER: home ownership</p>\\n<h3>1.6. FINANZTYP</h3>\\n<p>Most descriptive financial type for individual\\n- -1: unknown\\n-  1: low financial interest (MINIMALIST)\\n-  2: money-saver (SPARER)\\n-  3: home ownership (HAUSBAUER)\\n-  4: be prepared (VORSORGER)\\n-  5: investor (ANLEGER)\\n-  6: inconspicuous (UNAUFFAELLIGER)</p>\\n<h3>1.7. GEBURTSJAHR</h3>\\n<p>Year of birth\\n- missing data encoded as 0</p>\\n<h3>1.8. GFK_URLAUBERTYP</h3>\\n<p>Vacation habits\\n-  1: Event travelers\\n-  2: Family-oriented vacationists\\n-  3: Winter sportspeople\\n-  4: Culture lovers\\n-  5: Nature fans\\n-  6: Hiker\\n-  7: Golden ager\\n-  8: Homeland-connected vacationists\\n-  9: Package tour travelers\\n- 10: Connoisseurs\\n- 11: Active families\\n- 12: Without vacation</p>\\n<h3>1.9. GREEN_AVANTGARDE</h3>\\n<p>Membership in environmental sustainability as part of youth\\n- 0: not a member of green avantgarde\\n- 1: member of green avantgarde</p>\\n<h3>1.10. HEALTH_TYP</h3>\\n<p>Health typology\\n- -1: unknown\\n-  0: classification not possible\\n-  1: critical reserved\\n-  2: sanitary affine<br />\\n-  3: jaunty hedonists</p>\\n<h3>1.11. LP_LEBENSPHASE_FEIN</h3>\\n<p>Life stage, fine scale\\n-  1: single low-income earners of younger age\\n-  2: single low-income earners of middle age\\n-  3: single average earners of younger age\\n-  4: single average earners of middle age\\n-  5: single low-income earners of advanced age\\n-  6: single low-income earners at retirement age\\n-  7: single average earners of advanced age\\n-  8: single average earners at retirement age\\n-  9: single independent persons\\n- 10: wealthy single homeowners\\n- 11: single homeowners of advanced age\\n- 12: single homeowners at retirement age\\n- 13: single top earners of higher age\\n- 14: low-income and average earner couples of younger age\\n- 15: low-income earner couples of higher age\\n- 16: average earner couples of higher age\\n- 17: independent couples\\n- 18: wealthy homeowner couples of younger age\\n- 19: homeowner couples of higher age\\n- 20: top earner couples of higher age\\n- 21: single parent low-income earners\\n- 22: single parent average earners\\n- 23: single parent high-income earners\\n- 24: low-income earner families\\n- 25: average earner families\\n- 26: independent families\\n- 27: homeowner families\\n- 28: top earner families\\n- 29: low-income earners of younger age from multiperson households\\n- 30: average earners of younger age from multiperson households\\n- 31: low-income earners of higher age from multiperson households\\n- 32: average earners of higher age from multiperson households\\n- 33: independent persons of younger age from multiperson households\\n- 34: homeowners of younger age from multiperson households\\n- 35: top earners of younger age from multiperson households\\n- 36: independent persons of higher age from multiperson households\\n- 37: homeowners of advanced age from multiperson households\\n- 38: homeowners at retirement age from multiperson households\\n- 39: top earners of middle age from multiperson households\\n- 40: top earners at retirement age from multiperson households</p>\\n<h3>1.12. LP_LEBENSPHASE_GROB</h3>\\n<p>Life stage, rough scale\\n-  1: single low-income and average earners of younger age\\n-  2: single low-income and average earners of higher age\\n-  3: single high-income earners\\n-  4: single low-income and average-earner couples\\n-  5: single high-income earner couples\\n-  6: single parents\\n-  7: single low-income and average earner families\\n-  8: high-income earner families\\n-  9: average earners of younger age from multiperson households\\n- 10: low-income and average earners of higher age from multiperson households\\n- 11: high-income earners of younger age from multiperson households\\n- 12: high-income earners of higher age from multiperson households</p>\\n<h3>1.13. LP_FAMILIE_FEIN</h3>\\n<p>Family type, fine scale\\n-  0: unknown\\n-  1: single\\n-  2: couple\\n-  3: young single parent\\n-  4: single parent with teenager\\n-  5: single parent with child of full age\\n-  6: young family\\n-  7: family with teenager\\n-  8: family with child of full age\\n-  9: shared flat\\n- 10: two-generational household\\n- 11: multi-generational household</p>\\n<h3>1.14. LP_FAMILIE_GROB</h3>\\n<p>Family type, rough scale\\n- 0: unknown\\n- 1: single (maps to 1 in fine scale)\\n- 2: couple (maps to 2 in fine scale)\\n- 3: single parent (maps to 3-5 in fine scale)\\n- 4: family (maps to 6-8 in fine scale)\\n- 5: multiperson household (maps to 9-11 in fine scale)</p>\\n<h3>1.15. LP_STATUS_FEIN</h3>\\n<p>Social status, fine scale\\n-  1: typical low-income earners\\n-  2: orientation-seeking low-income earners\\n-  3: aspiring low-income earners\\n-  4: villagers\\n-  5: minimalistic high-income earners\\n-  6: independent workers\\n-  7: title holder-households\\n-  8: new houseowners\\n-  9: houseowners\\n- 10: top earners</p>\\n<h3>1.16. LP_STATUS_GROB</h3>\\n<p>Social status, rough scale\\n- 1: low-income earners (maps to 1-2 in fine scale)\\n- 2: average earners (maps to 3-5 in fine scale)\\n- 3: independents (maps to 6-7 in fine scale)\\n- 4: houseowners (maps to 8-9 in fine scale)\\n- 5: top earners (maps to 10 in fine scale)</p>\\n<h3>1.17. NATIONALITAET_KZ</h3>\\n<p>Nationality based on given name analysis\\n- -1: unknown\\n-  0: unknown\\n-  1: German-sounding\\n-  2: foreign-sounding\\n-  3: assimilated names</p>\\n<h3>1.18. PRAEGENDE_JUGENDJAHRE</h3>\\n<p>Dominating movement of person\\'s youth (avantgarde vs. mainstream; east vs. west)\\n- -1: unknown\\n-  0: unknown\\n-  1: 40s - war years (Mainstream, E+W)\\n-  2: 40s - reconstruction years (Avantgarde, E+W)\\n-  3: 50s - economic miracle (Mainstream, E+W)\\n-  4: 50s - milk bar / Individualisation (Avantgarde, E+W)\\n-  5: 60s - economic miracle (Mainstream, E+W)\\n-  6: 60s - generation 68 / student protestors (Avantgarde, W)\\n-  7: 60s - opponents to the building of the Wall (Avantgarde, E)\\n-  8: 70s - family orientation (Mainstream, E+W)\\n-  9: 70s - peace movement (Avantgarde, E+W)\\n- 10: 80s - Generation Golf (Mainstream, W)\\n- 11: 80s - ecological awareness (Avantgarde, W)\\n- 12: 80s - FDJ / communist party youth organisation (Mainstream, E)\\n- 13: 80s - Swords into ploughshares (Avantgarde, E)\\n- 14: 90s - digital media kids (Mainstream, E+W)\\n- 15: 90s - ecological awareness (Avantgarde, E+W)</p>\\n<h3>1.19. RETOURTYP_BK_S</h3>\\n<p>Return type\\n- 0: unknown\\n- 1: influenceable Crazy-Shopper\\n- 2: demanding Heavy-Returner\\n- 3: incentive-receptive Normal-Returner\\n- 4: conservative Low-Returner\\n- 5: determined Minimal-Returner</p>\\n<h3>1.20. SEMIO_SOZ, SEMIO_FAM, SEMIO_REL, SEMIO_MAT, SEMIO_VERT, SEMIO_LUST,</h3>\\n<h3>SEMIO_ERL, SEMIO_KULT, SEMIO_RAT, SEMIO_KRIT, SEMIO_DOM, SEMIO_KAEM,</h3>\\n<h3>SEMIO_PFLICHT, SEMIO_TRADV</h3>\\n<p>Personality typology, for each dimension:\\n- -1: unknown\\n-  1: highest affinity\\n-  2: very high affinity\\n-  3: high affinity\\n-  4: average affinity\\n-  5: low affinity\\n-  6: very low affinity\\n-  7: lowest affinity\\n-  9: unknown</p>\\n<p>Dimension translations:\\n- SOZ: socially-minded\\n- FAM: family-minded\\n- REL: religious\\n- MAT: materialistic\\n- VERT: dreamful\\n- LUST: sensual-minded\\n- ERL: event-oriented\\n- KULT: cultural-minded\\n- RAT: rational\\n- KRIT: critical-minded\\n- DOM: dominant-minded\\n- KAEM: combative attitude\\n- PFLICHT: dutiful\\n- TRADV: tradional-minded</p>\\n<h3>1.21. SHOPPER_TYP</h3>\\n<p>Shopper typology\\n- -1: unknown\\n-  0: external supplied hedonists\\n-  1: Shopping-stressed\\n-  2: family-shopper\\n-  3: demanding shopper</p>\\n<h3>1.22. SOHO_KZ</h3>\\n<p>Small office / home office flag\\n- -1: unknown\\n- 0: no small office/home office\\n- 1: small office/home office</p>\\n<h3>1.23. TITEL_KZ</h3>\\n<p>Academic title flag\\n- -1: unknown\\n-  0: unknown\\n-  1: Dr.\\n-  2: Dr. Dr.\\n-  3: Prof.\\n-  4: Prof. Dr.\\n-  5: other</p>\\n<h3>1.24. VERS_TYP</h3>\\n<p>Insurance typology\\n- -1: unknown\\n-  1: social-safety driven\\n-  2: individualistic-accepting risks</p>\\n<h3>1.25. ZABEOTYP</h3>\\n<p>Energy consumption typology\\n- -1: unknown\\n-  1: green\\n-  2: smart\\n-  3: fair supplied\\n-  4: price driven\\n-  5: seeking orientation\\n-  6: indifferent\\n-  9: unknown</p>\\n<hr />\\n<h2>2. Household-level features</h2>\\n<h3>2.1. ALTER_HH</h3>\\n<p>Birthdate of head of household\\n-  0: unknown / no main age detectable\\n-  1: 1895-01-01 to 1899-12-31\\n-  2: 1900-01-01 to 1904-12-31\\n-  3: 1905-01-01 to 1909-12-31\\n-  4: 1910-01-01 to 1914-12-31\\n-  5: 1915-01-01 to 1919-12-31\\n-  6: 1920-01-01 to 1924-12-31\\n-  7: 1925-01-01 to 1929-12-31\\n-  8: 1930-01-01 to 1934-12-31\\n-  9: 1935-01-01 to 1939-12-31\\n- 10: 1940-01-01 to 1944-12-31\\n- 11: 1945-01-01 to 1949-12-31\\n- 12: 1950-01-01 to 1954-12-31\\n- 13: 1955-01-01 to 1959-12-31\\n- 14: 1960-01-01 to 1964-12-31\\n- 15: 1965-01-01 to 1969-12-31\\n- 16: 1970-01-01 to 1974-12-31\\n- 17: 1975-01-01 to 1979-12-31\\n- 18: 1980-01-01 to 1984-12-31\\n- 19: 1985-01-01 to 1989-12-31\\n- 20: 1990-01-01 to 1994-12-31\\n- 21: 1995-01-01 to 1999-12-31</p>\\n<h3>2.2. ANZ_PERSONEN</h3>\\n<p>Number of adults in household</p>\\n<h3>2.3. ANZ_TITEL</h3>\\n<p>Number of professional academic title holders in household</p>\\n<h3>2.4. HH_EINKOMMEN_SCORE</h3>\\n<p>Estimated household net income\\n- -1: unknown\\n-  0: unknown\\n-  1: highest income\\n-  2: very high income\\n-  3: high income\\n-  4: average income\\n-  5: lower income\\n-  6: very low income</p>\\n<h3>2.5. KK_KUNDENTYP</h3>\\n<p>Consumer pattern over past 12 months\\n- -1: unknown\\n-  1: regular customer\\n-  2: active customer\\n-  3: new costumer\\n-  4: stray customer\\n-  5: inactive customer\\n-  6: passive customer</p>\\n<h3>2.6. W_KEIT_KIND_HH</h3>\\n<p>Likelihood of children in household\\n- -1: unknown\\n-  0: unknown\\n-  1: most likely\\n-  2: very likely\\n-  3: likely\\n-  4: average\\n-  5: unlikely\\n-  6: very unlikely</p>\\n<h3>2.7. WOHNDAUER_2008</h3>\\n<p>Length of residence\\n- -1: unknown\\n-  0: unknown\\n-  1: length of residence less than 1 year\\n-  2: length of residence 1-2 years\\n-  3: length of residence 2-3 years\\n-  4: length of residence 3-4 years\\n-  5: length of residence 4-5 years\\n-  6: length of residence 5-6 years\\n-  7: length of residence 6-7 years\\n-  8: length of residence 7-10 years\\n-  9: length of residence more than 10 years</p>\\n<hr />\\n<h2>3. Building-level features</h2>\\n<h3>3.1. ANZ_HAUSHALTE_AKTIV</h3>\\n<p>Number of households in the building\\n- missing values encoded by 0</p>\\n<h3>3.2. ANZ_HH_TITEL</h3>\\n<p>Number of professional academic title holders in building</p>\\n<h3>3.3. GEBAEUDETYP</h3>\\n<p>Type of building (residential vs. commercial)\\n- -1: unknown\\n-  0: unknown\\n-  1: residential building\\n-  2: residential building buildings without actually known household\\n-  3: mixed (=residential and company) building\\n-  4: mixed building without actually known household or company\\n-  5: company building w/o known company\\n-  6: mixed building without actually known household\\n-  7: company building\\n-  8: mixed building without actually known company</p>\\n<h3>3.4. KONSUMNAEHE</h3>\\n<p>Distance from building to point of sale (PoS)\\n- 1: building is located in a 125 x 125m grid cell (RA1), which is a\\n     consumption cell\\n- 2: building is located in a 250 x 250m grid cell that includes at least one\\n     RA1-consumption cell\\n- 3: building is located in a 500 x 500m grid cell that includes at least one\\n     RA1-consumption cell\\n- 4: building is located in a 1 x 1km grid cell that includes at least one\\n     RA1-consumption cell\\n- 5: building is located in a 2 x 2km grid cell that includes at least one\\n     RA1-consumption cell\\n- 6: building is located in a 10 x 10km grid cell that includes at least one\\n     RA1-consumption cell\\n- 7: building is not located in a 10 x 10km range of a consumption cell</p>\\n<h3>3.5. MIN_GEBAEUDEJAHR</h3>\\n<p>First year building was mentioned in the database\\n- missing values encoded by 0</p>\\n<h3>3.6. OST_WEST_KZ</h3>\\n<p>Building location via former East / West Germany (GDR / FRG)\\n- -1: unknown\\n-  O: East (GDR)\\n-  W: West (FRG)</p>\\n<h3>3.7. WOHNLAGE</h3>\\n<p>Neighborhood quality (or rural flag)\\n- -1: unknown\\n-  0: no score calculated\\n-  1: very good neighborhood\\n-  2: good neighborhood\\n-  3: average neighborhood\\n-  4: poor neighborhood\\n-  5: very poor neighborhood\\n-  7: rural neighborhood\\n-  8: new building in rural neighborhood</p>\\n<hr />\\n<h2>4. RR4 micro-cell features</h2>\\n<h3>4.1. CAMEO_DEUG_2015</h3>\\n<p>German CAMEO: Wealth / Life Stage Typology, rough scale\\n- -1: unknown\\n-  1: upper class\\n-  2: upper middleclass\\n-  3: established middleclass\\n-  4: consumption-oriented middleclass\\n-  5: active middleclass\\n-  6: low-consumption middleclass\\n-  7: lower middleclass\\n-  8: working class\\n-  9: urban working class\\n-  X: unknown</p>\\n<h3>4.2. CAMEO_DEU_2015</h3>\\n<p>German CAMEO: Wealth / Life Stage Typology, detailed scale\\n- 1A: Work-Life-Balance\\n- 1B: Wealthy Best Ager\\n- 1C: Successful Songwriter\\n- 1D: Old Nobility\\n- 1E: City Nobility\\n- 2A: Cottage Chic\\n- 2B: Noble Jogger\\n- 2C: Established gourmet\\n- 2D: Fine Management\\n- 3A: Career &amp; Family\\n- 3B: Powershopping Families\\n- 3C: Rural Neighborhood\\n- 3D: Secure Retirement\\n- 4A: Family Starter\\n- 4B: Family Life\\n- 4C: String Trimmer\\n- 4D: Empty Nest\\n- 4E: Golden Ager\\n- 5A: Younger Employees\\n- 5B: Suddenly Family\\n- 5C: Family First\\n- 5D: Stock Market Junkies\\n- 5E: Coffee Rider\\n- 5F: Active Retirement\\n- 6A: Jobstarter\\n- 6B: Petty Bourgeois\\n- 6C: Long-established\\n- 6D: Sportgardener\\n- 6E: Urban Parents\\n- 6F: Frugal Aging\\n- 7A: Journeymen\\n- 7B: Mantaplatte\\n- 7C: Factory Worker\\n- 7D: Rear Window\\n- 7E: Interested Retirees\\n- 8A: Multi-culteral\\n- 8B: Young &amp; Mobile\\n- 8C: Prefab\\n- 8D: Town Seniors\\n- 9A: First Shared Apartment\\n- 9B: Temporary Workers\\n- 9C: Afternoon Talk Show\\n- 9D: Mini-Jobber\\n- 9E: Socking Away\\n- XX: unknown</p>\\n<h3>4.3. CAMEO_INTL_2015</h3>\\n<p>German CAMEO: Wealth / Life Stage Typology, mapped to international code\\n- -1: unknown\\n- 11: Wealthy Households - Pre-Family Couples &amp; Singles\\n- 12: Wealthy Households - Young Couples With Children\\n- 13: Wealthy Households - Families With School Age Children\\n- 14: Wealthy Households - Older Families &amp;  Mature Couples\\n- 15: Wealthy Households - Elders In Retirement\\n- 21: Prosperous Households - Pre-Family Couples &amp; Singles\\n- 22: Prosperous Households - Young Couples With Children\\n- 23: Prosperous Households - Families With School Age Children\\n- 24: Prosperous Households - Older Families &amp; Mature Couples\\n- 25: Prosperous Households - Elders In Retirement\\n- 31: Comfortable Households - Pre-Family Couples &amp; Singles\\n- 32: Comfortable Households - Young Couples With Children\\n- 33: Comfortable Households - Families With School Age Children\\n- 34: Comfortable Households - Older Families &amp; Mature Couples\\n- 35: Comfortable Households - Elders In Retirement\\n- 41: Less Affluent Households - Pre-Family Couples &amp; Singles\\n- 42: Less Affluent Households - Young Couples With Children\\n- 43: Less Affluent Households - Families With School Age Children\\n- 44: Less Affluent Households - Older Families &amp; Mature Couples\\n- 45: Less Affluent Households - Elders In Retirement\\n- 51: Poorer Households - Pre-Family Couples &amp; Singles\\n- 52: Poorer Households - Young Couples With Children\\n- 53: Poorer Households - Families With School Age Children\\n- 54: Poorer Households - Older Families &amp; Mature Couples\\n- 55: Poorer Households - Elders In Retirement\\n- XX: unknown</p>\\n<hr />\\n<h2>5. RR3 micro-cell features</h2>\\n<h3>5.1. KBA05_ANTG1</h3>\\n<p>Number of 1-2 family houses in the microcell\\n- -1: unknown\\n-  0: no 1-2 family homes\\n-  1: lower share of 1-2 family homes\\n-  2: average share of 1-2 family homes\\n-  3: high share of 1-2 family homes\\n-  4: very high share of 1-2 family homes</p>\\n<h3>5.2. KBA05_ANTG2</h3>\\n<p>Number of 3-5 family houses in the microcell\\n- -1: unknown\\n-  0: no 3-5 family homes\\n-  1: lower share of 3-5 family homes\\n-  2: average share of 3-5 family homes\\n-  3: high share of 3-5 family homes\\n-  4: very high share of 3-5 family homes</p>\\n<h3>5.3. KBA05_ANTG3</h3>\\n<p>Number of 6-10 family houses in the microcell\\n- -1: unknown\\n-  0: no 6-10 family homes\\n-  1: lower share of 6-10 family homes\\n-  2: average share of 6-10 family homes\\n-  3: high share of 6-10 family homes</p>\\n<h3>5.4. KBA05_ANTG4</h3>\\n<p>Number of 10+ family houses in the microcell\\n- -1: unknown\\n-  0: no 10+ family homes\\n-  1: lower share of 10+ family homes\\n-  2: high share of 10+ family homes</p>\\n<h3>5.5. KBA05_BAUMAX</h3>\\n<p>Most common building type within the microcell\\n- -1: unknown\\n-  0: unknown\\n-  1: mainly 1-2 family homes in the microcell\\n-  2: mainly 3-5 family homes in the microcell\\n-  3: mainly 6-10 family homes in the microcell\\n-  4: mainly 10+ family homes in the microcell\\n-  5: mainly business buildings in the microcell</p>\\n<h3>5.6. KBA05_GBZ</h3>\\n<p>Number of buildings in the microcell\\n- -1: unknown\\n-  0: unknown\\n-  1: 1-2 buildings\\n-  2: 3-4 buildings\\n-  3: 5-16 buildings\\n-  4: 17-22 buildings\\n-  5: &gt;=23 buildings</p>\\n<hr />\\n<h2>6. Postcode-level features</h2>\\n<h3>6.1. BALLRAUM</h3>\\n<p>Distance to nearest urban center\\n- -1: unknown\\n-  1: less than 10 km\\n-  2: 10 -  20 km\\n-  3: 20 -  30 km\\n-  4: 30 -  40 km\\n-  5: 40 -  50 km\\n-  6: 50 - 100 km\\n-  7: more than 100 km</p>\\n<h3>6.2. EWDICHTE</h3>\\n<p>Density of households per square kilometer\\n- -1: unknown\\n-  1: less than 34 households per km^2\\n-  2:  34 -  89 households per km^2\\n-  3:  90 - 149 households per km^2\\n-  4: 150 - 319 households per km^2\\n-  5: 320 - 999 households per km^2\\n-  6: more than 999 households per km^2</p>\\n<h3>6.3. INNENSTADT</h3>\\n<p>Distance to city center (downtown)\\n- -1: unknown\\n-  1: in city center\\n-  2: less than 3 km to city center\\n-  3:  3 -  5 km to city center\\n-  4:  5 - 10 km to city center\\n-  5: 10 - 20 km to city center\\n-  6: 20 - 30 km to city center\\n-  7: 30 - 40 km to city center\\n-  8: more than 40 km to city center</p>\\n<hr />\\n<h2>7. RR1 region features</h2>\\n<h3>7.1. GEBAEUDETYP_RASTER</h3>\\n<p>Ratio of residential to commercial activity\\n- 1: business cell\\n- 2: mixed cell with high business share\\n- 3: mixed cell with middle business share\\n- 4: mixed cell with low business share\\n- 5: residential cell</p>\\n<h3>7.2. KKK</h3>\\n<p>Purchasing power in region\\n- -1; unknown\\n-  0: unknown\\n-  1: very high\\n-  2: high\\n-  3: average\\n-  4: low</p>\\n<h3>7.3. MOBI_REGIO</h3>\\n<p>Movement patterns\\n- 1: very high movement\\n- 2: high movement\\n- 3: middle movement\\n- 4: low movement\\n- 5: very low movement\\n- 6: none</p>\\n<h3>7.4. ONLINE_AFFINITAET</h3>\\n<p>Online affinity\\n- 0: none\\n- 1: low\\n- 2: middle\\n- 3: high\\n- 4: very high\\n- 5: highest</p>\\n<h3>7.5. REGIOTYP</h3>\\n<p>Neighborhood typology\\n- -1: unknown\\n-  0: unknown\\n-  1: upper class\\n-  2: conservatives\\n-  3: upper middle class\\n-  4: middle class\\n-  5: lower middle class\\n-  6: traditional workers\\n-  7: marginal groups</p>\\n<hr />\\n<h2>8. PLZ8 macro-cell features</h2>\\n<h3>8.1. KBA13_ANZAHL_PKW</h3>\\n<p>Number of cars in the PLZ8 region</p>\\n<h3>8.2. PLZ8_ANTG1</h3>\\n<p>Number of 1-2 family houses in the PLZ8 region\\n- -1: unknown\\n-  0: no 1-2 family homes\\n-  1: lower share of 1-2 family homes\\n-  2: average share of 1-2 family homes\\n-  3: high share of 1-2 family homes\\n-  4: very high share of 1-2 family homes</p>\\n<h3>8.3. PLZ8_ANTG2</h3>\\n<p>Number of 3-5 family houses in the PLZ8 region\\n- -1: unknown\\n-  0: no 3-5 family homes\\n-  1: lower share of 3-5 family homes\\n-  2: average share of 3-5 family homes\\n-  3: high share of 3-5 family homes\\n-  4: very high share of 3-5 family homes</p>\\n<h3>8.4. PLZ8_ANTG3</h3>\\n<p>Number of 6-10 family houses in the PLZ8 region\\n- -1: unknown\\n-  0: no 6-10 family homes\\n-  1: lower share of 6-10 family homes\\n-  2: average share of 6-10 family homes\\n-  3: high share of 6-10 family homes</p>\\n<h3>8.5. PLZ8_ANTG4</h3>\\n<p>Number of 10+ family houses in the PLZ8 region\\n- -1: unknown\\n-  0: no 10+ family homes\\n-  1: lower share of 10+ family homes\\n-  2: high share of 10+ family homes</p>\\n<h3>8.6. PLZ8_BAUMAX</h3>\\n<p>Most common building type within the PLZ8 region\\n- -1: unknown\\n-  0: unknown\\n-  1: mainly 1-2 family homes\\n-  2: mainly 3-5 family homes\\n-  3: mainly 6-10 family homes\\n-  4: mainly 10+ family homes\\n-  5: mainly business buildings</p>\\n<h3>8.7. PLZ8_HHZ</h3>\\n<p>Number of households within the PLZ8 region\\n- -1: unknown\\n-  1: less than 130 households\\n-  2: 131-299 households\\n-  3: 300-599 households\\n-  4: 600-849 households\\n-  5: more than 849 households</p>\\n<h3>8.8. PLZ8_GBZ</h3>\\n<p>Number of buildings within the PLZ8 region\\n- -1: unknown\\n-  1: less than 60 buildings\\n-  2:  60-129 buildings\\n-  3: 130-299 buildings\\n-  4: 300-449 buildings\\n-  5: more than 449 buildings</p>\\n<hr />\\n<h2>9. Community-level features</h2>\\n<h3>9.1. ARBEIT</h3>\\n<p>Share of unemployment in community\\n- -1: unknown\\n-  1: very low\\n-  2: low\\n-  3: average\\n-  4: high\\n-  5: very high\\n-  9: unknown</p>\\n<h3>9.2. ORTSGR_KLS9</h3>\\n<p>Size of community\\n- -1: unknown\\n-  1: &lt;= 2,000 inhabitants\\n-  2:   2,001 to   5,000 inhabitants\\n-  3:   5,001 to  10,000 inhabitants\\n-  4:  10,001 to  20,000 inhabitants\\n-  5:  20,001 to  50,000 inhabitants\\n-  6:  50,001 to 100,000 inhabitants\\n-  7: 100,001 to 300,000 inhabitants\\n-  8: 300,001 to 700,000 inhabitants\\n-  9: &gt; 700,000  inhabitants</p>\\n<h3>9.3. RELAT_AB</h3>\\n<p>Share of unemployment relative to county in which community is contained\\n- -1: unknown\\n-  1: very low\\n-  2: low\\n-  3: average\\n-  4: high\\n-  5: very high\\n-  9: unknown</p>'"
      ]
     },
     "execution_count": 74,
     "metadata": {},
     "output_type": "execute_result"
    }
   ],
   "source": [
    "htmlmarkdown"
   ]
  },
  {
   "cell_type": "markdown",
   "metadata": {},
   "source": [
    "## Step 3: Clustering\n",
    "\n",
    "### Step 3.1: Apply Clustering to General Population\n",
    "\n",
    "You've assessed and cleaned the demographics data, then scaled and transformed them. Now, it's time to see how the data clusters in the principal components space. In this substep, you will apply k-means clustering to the dataset and use the average within-cluster distances from each point to their assigned cluster's centroid to decide on a number of clusters to keep.\n",
    "\n",
    "- Use sklearn's [KMeans](http://scikit-learn.org/stable/modules/generated/sklearn.cluster.KMeans.html#sklearn.cluster.KMeans) class to perform k-means clustering on the PCA-transformed data.\n",
    "- Then, compute the average difference from each point to its assigned cluster's center. **Hint**: The KMeans object's `.score()` method might be useful here, but note that in sklearn, scores tend to be defined so that larger is better. Try applying it to a small, toy dataset, or use an internet search to help your understanding.\n",
    "- Perform the above two steps for a number of different cluster counts. You can then see how the average distance decreases with an increasing number of clusters. However, each additional cluster provides a smaller net benefit. Use this fact to select a final number of clusters in which to group the data. **Warning**: because of the large size of the dataset, it can take a long time for the algorithm to resolve. The more clusters to fit, the longer the algorithm will take. You should test for cluster counts through at least 10 clusters to get the full picture, but you shouldn't need to test for a number of clusters above about 30.\n",
    "- Once you've selected a final number of clusters to use, re-fit a KMeans instance to perform the clustering operation. Make sure that you also obtain the cluster assignments for the general demographics data, since you'll be using them in the final Step 3.3."
   ]
  },
  {
   "cell_type": "code",
   "execution_count": 75,
   "metadata": {},
   "outputs": [],
   "source": [
    "# Over a number of different cluster counts...\n",
    "from sklearn.cluster import KMeans\n",
    "\n",
    "def get_kmeans(data, center):\n",
    "    \n",
    "    kmeans = KMeans(n_clusters = center)\n",
    "    model = kmeans.fit(data)\n",
    "    scores = np.abs(model.score(data))\n",
    "    return scores"
   ]
  },
  {
   "cell_type": "code",
   "execution_count": null,
   "metadata": {},
   "outputs": [],
   "source": [
    "# run k-means clustering on the data and...\n",
    "\n",
    "scores = []\n",
    "centers = list(range(1,26,2))\n",
    "print(centers)\n",
    "\n",
    "for center in centers:\n",
    "    output = get_kmeans(df_retain,center)\n",
    "    print(output)\n",
    "    scores.append(output)\n",
    "\n",
    "print(scores)  "
   ]
  },
  {
   "cell_type": "code",
   "execution_count": 76,
   "metadata": {},
   "outputs": [],
   "source": [
    "# run k-means clustering on the data and...\n",
    "centers = list(range(1,26,2))\n",
    "scores= [44121894.086743981, 34552041.266312003, 31107058.530455727, 28780328.051952563, 27316122.254495755, 26299071.501564328, 25234893.388440192, 24755059.712482873, 23832974.914161794, 23186711.892744921, 22868573.920552395, 22357882.497938305, 21931436.492027223]"
   ]
  },
  {
   "cell_type": "code",
   "execution_count": 77,
   "metadata": {},
   "outputs": [
    {
     "data": {
      "text/plain": [
       "[<matplotlib.lines.Line2D at 0x7fb78c0b10b8>]"
      ]
     },
     "execution_count": 77,
     "metadata": {},
     "output_type": "execute_result"
    },
    {
     "data": {
      "image/png": "[encoded data removed]",
      "text/plain": [
       "<matplotlib.figure.Figure at 0x7fb78d674d30>"
      ]
     },
     "metadata": {
      "needs_background": "light"
     },
     "output_type": "display_data"
    }
   ],
   "source": [
    "# Investigate the change in within-cluster distance across number of clusters.\n",
    "# HINT: Use matplotlib's plot function to visualize this relationship.\n",
    "\n",
    "plt.plot(centers,scores,color='blue')"
   ]
  },
  {
   "cell_type": "code",
   "execution_count": 78,
   "metadata": {},
   "outputs": [],
   "source": [
    "# Re-fit the k-means model with the selected number of clusters and obtain\n",
    "# cluster predictions for the general population demographics data.\n",
    "\n",
    "kmeans = KMeans(n_clusters = 9)\n",
    "result = kmeans.fit_predict(df_retain)"
   ]
  },
  {
   "cell_type": "markdown",
   "metadata": {},
   "source": [
    "### Discussion 3.1: Apply Clustering to General Population\n",
    "\n",
    "(Double-click this cell and replace this text with your own text, reporting your findings and decisions regarding clustering. Into how many clusters have you decided to segment the population?)\n",
    "\n",
    "- Anywhere from 7 to 12 are good number of clusters looking at the elbow curve.\n",
    "- We are using 9 as that is elbow curve jump off."
   ]
  },
  {
   "cell_type": "markdown",
   "metadata": {},
   "source": [
    "### Step 3.2: Apply All Steps to the Customer Data\n",
    "\n",
    "Now that you have clusters and cluster centers for the general population, it's time to see how the customer data maps on to those clusters. Take care to not confuse this for re-fitting all of the models to the customer data. Instead, you're going to use the fits from the general population to clean, transform, and cluster the customer data. In the last step of the project, you will interpret how the general population fits apply to the customer data.\n",
    "\n",
    "- Don't forget when loading in the customers data, that it is semicolon (`;`) delimited.\n",
    "- Apply the same feature wrangling, selection, and engineering steps to the customer demographics using the `clean_data()` function you created earlier. (You can assume that the customer demographics data has similar meaning behind missing data patterns as the general demographics data.)\n",
    "- Use the sklearn objects from the general demographics data, and apply their transformations to the customers data. That is, you should not be using a `.fit()` or `.fit_transform()` method to re-fit the old objects, nor should you be creating new sklearn objects! Carry the data through the feature scaling, PCA, and clustering steps, obtaining cluster assignments for all of the data in the customer demographics data."
   ]
  },
  {
   "cell_type": "code",
   "execution_count": 79,
   "metadata": {},
   "outputs": [],
   "source": [
    "# Load in the customer demographics data.\n",
    "customers = pd.read_csv('Udacity_CUSTOMERS_Subset.csv',delimiter=';')"
   ]
  },
  {
   "cell_type": "code",
   "execution_count": 80,
   "metadata": {},
   "outputs": [
    {
     "data": {
      "text/plain": [
       "(191652, 85)"
      ]
     },
     "execution_count": 80,
     "metadata": {},
     "output_type": "execute_result"
    }
   ],
   "source": [
    "# Apply preprocessing, feature transformation, and clustering from the general\n",
    "# demographics onto the customer data, obtaining cluster predictions for the\n",
    "# customer demographics data.\n",
    "customers.shape\n"
   ]
  },
  {
   "cell_type": "code",
   "execution_count": 82,
   "metadata": {},
   "outputs": [
    {
     "name": "stdout",
     "output_type": "stream",
     "text": [
      "AGER_TYP                   0\n",
      "ALTERSKATEGORIE_GROB       0\n",
      "ANREDE_KZ                  0\n",
      "CJT_GESAMTTYP              0\n",
      "FINANZ_MINIMALIST          0\n",
      "FINANZ_SPARER              0\n",
      "FINANZ_VORSORGER           0\n",
      "FINANZ_ANLEGER             0\n",
      "FINANZ_UNAUFFAELLIGER      0\n",
      "FINANZ_HAUSBAUER           0\n",
      "FINANZTYP                  0\n",
      "GEBURTSJAHR                0\n",
      "GFK_URLAUBERTYP            0\n",
      "GREEN_AVANTGARDE           0\n",
      "HEALTH_TYP                 0\n",
      "LP_LEBENSPHASE_FEIN        0\n",
      "LP_LEBENSPHASE_GROB        0\n",
      "LP_FAMILIE_FEIN            0\n",
      "LP_FAMILIE_GROB            0\n",
      "LP_STATUS_FEIN             0\n",
      "LP_STATUS_GROB             0\n",
      "NATIONALITAET_KZ           0\n",
      "PRAEGENDE_JUGENDJAHRE      0\n",
      "RETOURTYP_BK_S             0\n",
      "SEMIO_SOZ                  0\n",
      "SEMIO_FAM                  0\n",
      "SEMIO_REL                  0\n",
      "SEMIO_MAT                  0\n",
      "SEMIO_VERT                 0\n",
      "SEMIO_LUST                 0\n",
      "                        ... \n",
      "OST_WEST_KZ                0\n",
      "WOHNLAGE                   0\n",
      "CAMEO_DEUG_2015          126\n",
      "CAMEO_DEU_2015             0\n",
      "CAMEO_INTL_2015            0\n",
      "KBA05_ANTG1                0\n",
      "KBA05_ANTG2                0\n",
      "KBA05_ANTG3                0\n",
      "KBA05_ANTG4                0\n",
      "KBA05_BAUMAX               0\n",
      "KBA05_GBZ                  0\n",
      "BALLRAUM                   0\n",
      "EWDICHTE                   0\n",
      "INNENSTADT                 0\n",
      "GEBAEUDETYP_RASTER         0\n",
      "KKK                        0\n",
      "MOBI_REGIO                 0\n",
      "ONLINE_AFFINITAET          0\n",
      "REGIOTYP                   0\n",
      "KBA13_ANZAHL_PKW           0\n",
      "PLZ8_ANTG1                 0\n",
      "PLZ8_ANTG2                 0\n",
      "PLZ8_ANTG3                 0\n",
      "PLZ8_ANTG4                 0\n",
      "PLZ8_BAUMAX                0\n",
      "PLZ8_HHZ                   0\n",
      "PLZ8_GBZ                   0\n",
      "ARBEIT                     0\n",
      "ORTSGR_KLS9                0\n",
      "RELAT_AB                   0\n",
      "Length: 85, dtype: int64\n"
     ]
    }
   ],
   "source": [
    "print((customers=='X').sum())"
   ]
  },
  {
   "cell_type": "code",
   "execution_count": 84,
   "metadata": {},
   "outputs": [],
   "source": [
    "# Need to change CAMEO_DEUG_2015 values.\n",
    "\n",
    "###customers_2 = customers.drop(\"CAMEO_DEUG_2015\", axis='columns')\n",
    "customers_2 = customers.drop(customers[customers.CAMEO_DEUG_2015 == 'X'].index)"
   ]
  },
  {
   "cell_type": "code",
   "execution_count": 85,
   "metadata": {},
   "outputs": [
    {
     "name": "stdout",
     "output_type": "stream",
     "text": [
      "AGER_TYP                 0\n",
      "ALTERSKATEGORIE_GROB     0\n",
      "ANREDE_KZ                0\n",
      "CJT_GESAMTTYP            0\n",
      "FINANZ_MINIMALIST        0\n",
      "FINANZ_SPARER            0\n",
      "FINANZ_VORSORGER         0\n",
      "FINANZ_ANLEGER           0\n",
      "FINANZ_UNAUFFAELLIGER    0\n",
      "FINANZ_HAUSBAUER         0\n",
      "FINANZTYP                0\n",
      "GEBURTSJAHR              0\n",
      "GFK_URLAUBERTYP          0\n",
      "GREEN_AVANTGARDE         0\n",
      "HEALTH_TYP               0\n",
      "LP_LEBENSPHASE_FEIN      0\n",
      "LP_LEBENSPHASE_GROB      0\n",
      "LP_FAMILIE_FEIN          0\n",
      "LP_FAMILIE_GROB          0\n",
      "LP_STATUS_FEIN           0\n",
      "LP_STATUS_GROB           0\n",
      "NATIONALITAET_KZ         0\n",
      "PRAEGENDE_JUGENDJAHRE    0\n",
      "RETOURTYP_BK_S           0\n",
      "SEMIO_SOZ                0\n",
      "SEMIO_FAM                0\n",
      "SEMIO_REL                0\n",
      "SEMIO_MAT                0\n",
      "SEMIO_VERT               0\n",
      "SEMIO_LUST               0\n",
      "                        ..\n",
      "OST_WEST_KZ              0\n",
      "WOHNLAGE                 0\n",
      "CAMEO_DEUG_2015          0\n",
      "CAMEO_DEU_2015           0\n",
      "CAMEO_INTL_2015          0\n",
      "KBA05_ANTG1              0\n",
      "KBA05_ANTG2              0\n",
      "KBA05_ANTG3              0\n",
      "KBA05_ANTG4              0\n",
      "KBA05_BAUMAX             0\n",
      "KBA05_GBZ                0\n",
      "BALLRAUM                 0\n",
      "EWDICHTE                 0\n",
      "INNENSTADT               0\n",
      "GEBAEUDETYP_RASTER       0\n",
      "KKK                      0\n",
      "MOBI_REGIO               0\n",
      "ONLINE_AFFINITAET        0\n",
      "REGIOTYP                 0\n",
      "KBA13_ANZAHL_PKW         0\n",
      "PLZ8_ANTG1               0\n",
      "PLZ8_ANTG2               0\n",
      "PLZ8_ANTG3               0\n",
      "PLZ8_ANTG4               0\n",
      "PLZ8_BAUMAX              0\n",
      "PLZ8_HHZ                 0\n",
      "PLZ8_GBZ                 0\n",
      "ARBEIT                   0\n",
      "ORTSGR_KLS9              0\n",
      "RELAT_AB                 0\n",
      "Length: 85, dtype: int64\n"
     ]
    }
   ],
   "source": [
    "print((customers_2=='X').sum())"
   ]
  },
  {
   "cell_type": "code",
   "execution_count": 109,
   "metadata": {},
   "outputs": [
    {
     "data": {
      "text/plain": [
       "(191526, 85)"
      ]
     },
     "execution_count": 109,
     "metadata": {},
     "output_type": "execute_result"
    }
   ],
   "source": [
    "customers_2.shape"
   ]
  },
  {
   "cell_type": "code",
   "execution_count": 115,
   "metadata": {},
   "outputs": [
    {
     "name": "stdout",
     "output_type": "stream",
     "text": [
      "(191526, 85)\n",
      "DONE Converted into NaN\n",
      "removing col\n",
      "(191526, 79)\n",
      "DONE dropping col\n",
      "(134035, 79)\n",
      "DONE dropping row\n",
      "encoded categorical\n",
      "(134035, 65)\n",
      "DONE encoding OST_WEST_KZ\n",
      "eng mixture\n",
      "(134035, 69)\n",
      "DONE engineering Mixture\n",
      "DONE dropping Mix col\n",
      "Test Checked\n"
     ]
    }
   ],
   "source": [
    "customers_clean = clean_data(customers_2)"
   ]
  },
  {
   "cell_type": "code",
   "execution_count": 116,
   "metadata": {},
   "outputs": [
    {
     "data": {
      "text/plain": [
       "Index(['ALTERSKATEGORIE_GROB', 'ANREDE_KZ', 'FINANZ_MINIMALIST',\n",
       "       'FINANZ_SPARER', 'FINANZ_VORSORGER', 'FINANZ_ANLEGER',\n",
       "       'FINANZ_UNAUFFAELLIGER', 'FINANZ_HAUSBAUER', 'GREEN_AVANTGARDE',\n",
       "       'HEALTH_TYP', 'PRAEGENDE_JUGENDJAHRE', 'RETOURTYP_BK_S', 'SEMIO_SOZ',\n",
       "       'SEMIO_FAM', 'SEMIO_REL', 'SEMIO_MAT', 'SEMIO_VERT', 'SEMIO_LUST',\n",
       "       'SEMIO_ERL', 'SEMIO_KULT', 'SEMIO_RAT', 'SEMIO_KRIT', 'SEMIO_DOM',\n",
       "       'SEMIO_KAEM', 'SEMIO_PFLICHT', 'SEMIO_TRADV', 'SOHO_KZ', 'ANZ_PERSONEN',\n",
       "       'ANZ_TITEL', 'HH_EINKOMMEN_SCORE', 'W_KEIT_KIND_HH', 'WOHNDAUER_2008',\n",
       "       'ANZ_HAUSHALTE_AKTIV', 'ANZ_HH_TITEL', 'KONSUMNAEHE',\n",
       "       'MIN_GEBAEUDEJAHR', 'OST_WEST_KZ', 'WOHNLAGE', 'CAMEO_INTL_2015',\n",
       "       'KBA05_ANTG1', 'KBA05_ANTG2', 'KBA05_ANTG3', 'KBA05_ANTG4', 'KBA05_GBZ',\n",
       "       'BALLRAUM', 'EWDICHTE', 'INNENSTADT', 'GEBAEUDETYP_RASTER', 'KKK',\n",
       "       'MOBI_REGIO', 'ONLINE_AFFINITAET', 'REGIOTYP', 'KBA13_ANZAHL_PKW',\n",
       "       'PLZ8_ANTG1', 'PLZ8_ANTG2', 'PLZ8_ANTG3', 'PLZ8_ANTG4', 'PLZ8_HHZ',\n",
       "       'PLZ8_GBZ', 'ARBEIT', 'ORTSGR_KLS9', 'RELAT_AB', 'DECADE', 'MOVEMENT',\n",
       "       'WEALTH', 'LIFE_STAGE'],\n",
       "      dtype='object')"
      ]
     },
     "execution_count": 116,
     "metadata": {},
     "output_type": "execute_result"
    }
   ],
   "source": [
    "customers_clean.columns"
   ]
  },
  {
   "cell_type": "code",
   "execution_count": 118,
   "metadata": {},
   "outputs": [
    {
     "data": {
      "text/plain": [
       "(134035, 66)"
      ]
     },
     "execution_count": 118,
     "metadata": {},
     "output_type": "execute_result"
    }
   ],
   "source": [
    "customers_clean.shape"
   ]
  },
  {
   "cell_type": "code",
   "execution_count": 119,
   "metadata": {},
   "outputs": [],
   "source": [
    "customers_clean.drop(['PRAEGENDE_JUGENDJAHRE','CAMEO_INTL_2015'], axis=1,inplace=True)"
   ]
  },
  {
   "cell_type": "code",
   "execution_count": 120,
   "metadata": {},
   "outputs": [
    {
     "data": {
      "text/plain": [
       "(134035, 64)"
      ]
     },
     "execution_count": 120,
     "metadata": {},
     "output_type": "execute_result"
    }
   ],
   "source": [
    "customers_clean.shape"
   ]
  },
  {
   "cell_type": "code",
   "execution_count": 121,
   "metadata": {},
   "outputs": [
    {
     "data": {
      "text/plain": [
       "Index(['ALTERSKATEGORIE_GROB', 'ANREDE_KZ', 'FINANZ_MINIMALIST',\n",
       "       'FINANZ_SPARER', 'FINANZ_VORSORGER', 'FINANZ_ANLEGER',\n",
       "       'FINANZ_UNAUFFAELLIGER', 'FINANZ_HAUSBAUER', 'GREEN_AVANTGARDE',\n",
       "       'HEALTH_TYP', 'RETOURTYP_BK_S', 'SEMIO_SOZ', 'SEMIO_FAM', 'SEMIO_REL',\n",
       "       'SEMIO_MAT', 'SEMIO_VERT', 'SEMIO_LUST', 'SEMIO_ERL', 'SEMIO_KULT',\n",
       "       'SEMIO_RAT', 'SEMIO_KRIT', 'SEMIO_DOM', 'SEMIO_KAEM', 'SEMIO_PFLICHT',\n",
       "       'SEMIO_TRADV', 'SOHO_KZ', 'ANZ_PERSONEN', 'ANZ_TITEL',\n",
       "       'HH_EINKOMMEN_SCORE', 'W_KEIT_KIND_HH', 'WOHNDAUER_2008',\n",
       "       'ANZ_HAUSHALTE_AKTIV', 'ANZ_HH_TITEL', 'KONSUMNAEHE',\n",
       "       'MIN_GEBAEUDEJAHR', 'OST_WEST_KZ', 'WOHNLAGE', 'KBA05_ANTG1',\n",
       "       'KBA05_ANTG2', 'KBA05_ANTG3', 'KBA05_ANTG4', 'KBA05_GBZ', 'BALLRAUM',\n",
       "       'EWDICHTE', 'INNENSTADT', 'GEBAEUDETYP_RASTER', 'KKK', 'MOBI_REGIO',\n",
       "       'ONLINE_AFFINITAET', 'REGIOTYP', 'KBA13_ANZAHL_PKW', 'PLZ8_ANTG1',\n",
       "       'PLZ8_ANTG2', 'PLZ8_ANTG3', 'PLZ8_ANTG4', 'PLZ8_HHZ', 'PLZ8_GBZ',\n",
       "       'ARBEIT', 'ORTSGR_KLS9', 'RELAT_AB', 'DECADE', 'MOVEMENT', 'WEALTH',\n",
       "       'LIFE_STAGE'],\n",
       "      dtype='object')"
      ]
     },
     "execution_count": 121,
     "metadata": {},
     "output_type": "execute_result"
    }
   ],
   "source": [
    "customers_clean.columns"
   ]
  },
  {
   "cell_type": "code",
   "execution_count": 108,
   "metadata": {},
   "outputs": [
    {
     "ename": "ValueError",
     "evalue": "operands could not be broadcast together with shapes (134035,64) (65,) (134035,64) ",
     "output_type": "error",
     "traceback": [
      "\u001b[0;31m---------------------------------------------------------------------------\u001b[0m",
      "\u001b[0;31mValueError\u001b[0m                                Traceback (most recent call last)",
      "\u001b[0;32m<ipython-input-108-6251ddac38a6>\u001b[0m in \u001b[0;36m<module>\u001b[0;34m()\u001b[0m\n\u001b[0;32m----> 1\u001b[0;31m \u001b[0mcustomers_clean_trans\u001b[0m \u001b[0;34m=\u001b[0m \u001b[0mpd\u001b[0m\u001b[0;34m.\u001b[0m\u001b[0mDataFrame\u001b[0m\u001b[0;34m(\u001b[0m\u001b[0mstdScaler\u001b[0m\u001b[0;34m.\u001b[0m\u001b[0mtransform\u001b[0m\u001b[0;34m(\u001b[0m\u001b[0mcustomers_clean\u001b[0m\u001b[0;34m)\u001b[0m\u001b[0;34m)\u001b[0m\u001b[0;34m\u001b[0m\u001b[0m\n\u001b[0m",
      "\u001b[0;32m/opt/conda/lib/python3.6/site-packages/sklearn/preprocessing/data.py\u001b[0m in \u001b[0;36mtransform\u001b[0;34m(self, X, y, copy)\u001b[0m\n\u001b[1;32m    690\u001b[0m         \u001b[0;32melse\u001b[0m\u001b[0;34m:\u001b[0m\u001b[0;34m\u001b[0m\u001b[0m\n\u001b[1;32m    691\u001b[0m             \u001b[0;32mif\u001b[0m \u001b[0mself\u001b[0m\u001b[0;34m.\u001b[0m\u001b[0mwith_mean\u001b[0m\u001b[0;34m:\u001b[0m\u001b[0;34m\u001b[0m\u001b[0m\n\u001b[0;32m--> 692\u001b[0;31m                 \u001b[0mX\u001b[0m \u001b[0;34m-=\u001b[0m \u001b[0mself\u001b[0m\u001b[0;34m.\u001b[0m\u001b[0mmean_\u001b[0m\u001b[0;34m\u001b[0m\u001b[0m\n\u001b[0m\u001b[1;32m    693\u001b[0m             \u001b[0;32mif\u001b[0m \u001b[0mself\u001b[0m\u001b[0;34m.\u001b[0m\u001b[0mwith_std\u001b[0m\u001b[0;34m:\u001b[0m\u001b[0;34m\u001b[0m\u001b[0m\n\u001b[1;32m    694\u001b[0m                 \u001b[0mX\u001b[0m \u001b[0;34m/=\u001b[0m \u001b[0mself\u001b[0m\u001b[0;34m.\u001b[0m\u001b[0mscale_\u001b[0m\u001b[0;34m\u001b[0m\u001b[0m\n",
      "\u001b[0;31mValueError\u001b[0m: operands could not be broadcast together with shapes (134035,64) (65,) (134035,64) "
     ]
    }
   ],
   "source": [
    "customers_clean_trans = pd.DataFrame(stdScaler.transform(customers_clean))"
   ]
  },
  {
   "cell_type": "markdown",
   "metadata": {},
   "source": [
    "### Step 3.3: Compare Customer Data to Demographics Data\n",
    "\n",
    "At this point, you have clustered data based on demographics of the general population of Germany, and seen how the customer data for a mail-order sales company maps onto those demographic clusters. In this final substep, you will compare the two cluster distributions to see where the strongest customer base for the company is.\n",
    "\n",
    "Consider the proportion of persons in each cluster for the general population, and the proportions for the customers. If we think the company's customer base to be universal, then the cluster assignment proportions should be fairly similar between the two. If there are only particular segments of the population that are interested in the company's products, then we should see a mismatch from one to the other. If there is a higher proportion of persons in a cluster for the customer data compared to the general population (e.g. 5% of persons are assigned to a cluster for the general population, but 15% of the customer data is closest to that cluster's centroid) then that suggests the people in that cluster to be a target audience for the company. On the other hand, the proportion of the data in a cluster being larger in the general population than the customer data (e.g. only 2% of customers closest to a population centroid that captures 6% of the data) suggests that group of persons to be outside of the target demographics.\n",
    "\n",
    "Take a look at the following points in this step:\n",
    "\n",
    "- Compute the proportion of data points in each cluster for the general population and the customer data. Visualizations will be useful here: both for the individual dataset proportions, but also to visualize the ratios in cluster representation between groups. Seaborn's [`countplot()`](https://seaborn.pydata.org/generated/seaborn.countplot.html) or [`barplot()`](https://seaborn.pydata.org/generated/seaborn.barplot.html) function could be handy.\n",
    "  - Recall the analysis you performed in step 1.1.3 of the project, where you separated out certain data points from the dataset if they had more than a specified threshold of missing values. If you found that this group was qualitatively different from the main bulk of the data, you should treat this as an additional data cluster in this analysis. Make sure that you account for the number of data points in this subset, for both the general population and customer datasets, when making your computations!\n",
    "- Which cluster or clusters are overrepresented in the customer dataset compared to the general population? Select at least one such cluster and infer what kind of people might be represented by that cluster. Use the principal component interpretations from step 2.3 or look at additional components to help you make this inference. Alternatively, you can use the `.inverse_transform()` method of the PCA and StandardScaler objects to transform centroids back to the original data space and interpret the retrieved values directly.\n",
    "- Perform a similar investigation for the underrepresented clusters. Which cluster or clusters are underrepresented in the customer dataset compared to the general population, and what kinds of people are typified by these clusters?"
   ]
  },
  {
   "cell_type": "code",
   "execution_count": null,
   "metadata": {},
   "outputs": [],
   "source": [
    "# Compare the proportion of data in each cluster for the customer data to the\n",
    "# proportion of data in each cluster for the general population.\n",
    "\n"
   ]
  },
  {
   "cell_type": "code",
   "execution_count": null,
   "metadata": {},
   "outputs": [],
   "source": [
    "# What kinds of people are part of a cluster that is overrepresented in the\n",
    "# customer data compared to the general population?\n",
    "\n"
   ]
  },
  {
   "cell_type": "code",
   "execution_count": null,
   "metadata": {},
   "outputs": [],
   "source": [
    "# What kinds of people are part of a cluster that is underrepresented in the\n",
    "# customer data compared to the general population?\n",
    "\n"
   ]
  },
  {
   "cell_type": "markdown",
   "metadata": {},
   "source": [
    "### Discussion 3.3: Compare Customer Data to Demographics Data\n",
    "\n",
    "(Double-click this cell and replace this text with your own text, reporting findings and conclusions from the clustering analysis. Can we describe segments of the population that are relatively popular with the mail-order company, or relatively unpopular with the company?)"
   ]
  },
  {
   "cell_type": "markdown",
   "metadata": {},
   "source": [
    "> Congratulations on making it this far in the project! Before you finish, make sure to check through the entire notebook from top to bottom to make sure that your analysis follows a logical flow and all of your findings are documented in **Discussion** cells. Once you've checked over all of your work, you should export the notebook as an HTML document to submit for evaluation. You can do this from the menu, navigating to **File -> Download as -> HTML (.html)**. You will submit both that document and this notebook for your project submission."
   ]
  },
  {
   "cell_type": "code",
   "execution_count": null,
   "metadata": {},
   "outputs": [],
   "source": []
  }
 ],
 "metadata": {
  "kernelspec": {
   "display_name": "Python 3",
   "language": "python",
   "name": "python3"
  },
  "language_info": {
   "codemirror_mode": {
    "name": "ipython",
    "version": 3
   },
   "file_extension": ".py",
   "mimetype": "text/x-python",
   "name": "python",
   "nbconvert_exporter": "python",
   "pygments_lexer": "ipython3",
   "version": "3.6.3"
  }
 },
 "nbformat": 4,
 "nbformat_minor": 2
}
